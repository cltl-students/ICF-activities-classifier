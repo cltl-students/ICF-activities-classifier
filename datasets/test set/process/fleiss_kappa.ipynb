{
 "cells": [
  {
   "attachments": {},
   "cell_type": "markdown",
   "metadata": {},
   "source": [
    "# Fleiss Kappa calculating"
   ]
  },
  {
   "cell_type": "code",
   "execution_count": 2,
   "metadata": {},
   "outputs": [],
   "source": [
    "import pandas as pd\n",
    "import numpy as np\n",
    "import statsmodels\n",
    "from statsmodels.stats.inter_rater import fleiss_kappa"
   ]
  },
  {
   "cell_type": "code",
   "execution_count": 3,
   "metadata": {},
   "outputs": [],
   "source": [
    "df = pd.read_csv('./trial_medical_2.tsv',sep= '\\t')\n",
    "# df_l2 = pd.read_csv('./annotations/NA2.conll',sep= ' ',header=0)\n",
    "# df_l3 = pd.read_csv('./annotations/NA3.conll',sep= ' ',header=0)\n",
    "# df_l4 = pd.read_csv('./annotations/NA4.conll',sep= ' ',header=0)"
   ]
  },
  {
   "cell_type": "code",
   "execution_count": 4,
   "metadata": {},
   "outputs": [
    {
     "data": {
      "text/html": [
       "<div>\n",
       "<style scoped>\n",
       "    .dataframe tbody tr th:only-of-type {\n",
       "        vertical-align: middle;\n",
       "    }\n",
       "\n",
       "    .dataframe tbody tr th {\n",
       "        vertical-align: top;\n",
       "    }\n",
       "\n",
       "    .dataframe thead th {\n",
       "        text-align: right;\n",
       "    }\n",
       "</style>\n",
       "<table border=\"1\" class=\"dataframe\">\n",
       "  <thead>\n",
       "    <tr style=\"text-align: right;\">\n",
       "      <th></th>\n",
       "      <th>Utterances</th>\n",
       "      <th>Marike</th>\n",
       "      <th>Edwin</th>\n",
       "      <th>Sabina</th>\n",
       "      <th>gpt</th>\n",
       "    </tr>\n",
       "  </thead>\n",
       "  <tbody>\n",
       "    <tr>\n",
       "      <th>0</th>\n",
       "      <td>How was your day today?</td>\n",
       "      <td>none</td>\n",
       "      <td>none</td>\n",
       "      <td>none</td>\n",
       "      <td>communication</td>\n",
       "    </tr>\n",
       "    <tr>\n",
       "      <th>1</th>\n",
       "      <td>Oh, it was not too bad, thank you.</td>\n",
       "      <td>none</td>\n",
       "      <td>none</td>\n",
       "      <td>none</td>\n",
       "      <td>none</td>\n",
       "    </tr>\n",
       "    <tr>\n",
       "      <th>2</th>\n",
       "      <td>That's good to hear! Did you have any communic...</td>\n",
       "      <td>communication</td>\n",
       "      <td>communication</td>\n",
       "      <td>communication</td>\n",
       "      <td>communication</td>\n",
       "    </tr>\n",
       "    <tr>\n",
       "      <th>3</th>\n",
       "      <td>One of my grandchildren called me today and we...</td>\n",
       "      <td>communication</td>\n",
       "      <td>interpersonal</td>\n",
       "      <td>communication</td>\n",
       "      <td>communication</td>\n",
       "    </tr>\n",
       "    <tr>\n",
       "      <th>4</th>\n",
       "      <td>That's lovely! Have you; had trouble rememberi...</td>\n",
       "      <td>learning</td>\n",
       "      <td>none</td>\n",
       "      <td>none</td>\n",
       "      <td>communication</td>\n",
       "    </tr>\n",
       "  </tbody>\n",
       "</table>\n",
       "</div>"
      ],
      "text/plain": [
       "                                          Utterances         Marike  \\\n",
       "0                            How was your day today?           none   \n",
       "1                 Oh, it was not too bad, thank you.           none   \n",
       "2  That's good to hear! Did you have any communic...  communication   \n",
       "3  One of my grandchildren called me today and we...  communication   \n",
       "4  That's lovely! Have you; had trouble rememberi...       learning   \n",
       "\n",
       "           Edwin         Sabina            gpt  \n",
       "0           none           none  communication  \n",
       "1           none           none           none  \n",
       "2  communication  communication  communication  \n",
       "3  interpersonal  communication  communication  \n",
       "4           none           none  communication  "
      ]
     },
     "execution_count": 4,
     "metadata": {},
     "output_type": "execute_result"
    }
   ],
   "source": [
    "df.head()"
   ]
  },
  {
   "cell_type": "code",
   "execution_count": 5,
   "metadata": {},
   "outputs": [],
   "source": [
    "df.loc[df['gpt'] == 'learning and applying knowledge', 'gpt'] = 'learning'\n",
    "df.loc[df['gpt'] == 'general tasks and demands', 'gpt'] = 'general'\n",
    "df.loc[df['gpt'] == 'communication', 'gpt'] = 'communication'\n",
    "df.loc[df['gpt'] == 'mobility', 'gpt'] = 'mobility'\n",
    "df.loc[df['gpt'] == 'self-care', 'gpt'] = 'selfcare'\n",
    "df.loc[df['gpt'] == 'domestic life areas', 'gpt'] = 'domestic'\n",
    "df.loc[df['gpt'] == 'interpersonal interactions and relationships', 'gpt'] = 'interpersonal'\n",
    "df.loc[df['gpt'] == 'major life areas', 'gpt'] = 'major'\n",
    "df.loc[df['gpt'] == 'community, social and civic life', 'gpt'] = 'social'\n",
    "df.loc[df['gpt'] == 'none', 'gpt'] = 'none'\n",
    "\n"
   ]
  },
  {
   "cell_type": "code",
   "execution_count": 6,
   "metadata": {},
   "outputs": [],
   "source": [
    "def fleiss_kappa_count(M):\n",
    "    \"\"\"Computes Fleiss' kappa for group of annotators.\n",
    "\n",
    "    :param M: a matrix of shape (:attr:'N', :attr:'k') with 'N' = number of subjects and 'k' = the number of categories.\n",
    "        'M[i, j]' represent the number of raters who assigned the 'i'th subject to the 'j'th category.\n",
    "    :type: numpy matrix\n",
    "\n",
    "    :rtype: float\n",
    "    :return: Fleiss' kappa score\n",
    "    \"\"\"\n",
    "    N, k = M.shape  # N is # of items, k is # of categories\n",
    "    n_annotators = float(np.sum(M[0, :]))  # # of annotators\n",
    "    # print(n_annotators)\n",
    "    tot_annotations = N * n_annotators  # the total # of annotations\n",
    "    category_sum = np.sum(M, axis=0)  # the sum of each category over all items\n",
    "\n",
    "    # chance agreement\n",
    "    p = category_sum / tot_annotations  # the distribution of each category over all annotations\n",
    "    PbarE = np.sum(p * p)  # average chance agreement over all categories\n",
    "\n",
    "    # observed agreement\n",
    "    P = (np.sum(M * M, axis=1) - n_annotators) / (n_annotators * (n_annotators - 1))\n",
    "    Pbar = np.sum(P) / N  # add all observed agreement chances per item and divide by amount of items\n",
    "\n",
    "    return round((Pbar - PbarE) / (1 - PbarE), 4)\n"
   ]
  },
  {
   "cell_type": "code",
   "execution_count": 7,
   "metadata": {},
   "outputs": [],
   "source": [
    "a1 = df['Marike'].tolist() # trial 1:0.56\n",
    "a2 = df['Edwin'].tolist() # trial 1: 0.51\n",
    "a3 = df['Sabina'].tolist() # trial 1: 0.55\n",
    "a4 = df['gpt'].tolist() \n",
    "# trial 1 human: 0.69 # trial 1: all 0.58 \n",
    "# trial 2 human 0.65 # trial 2: all 0.42 all conversations are from gpt conversations \n",
    "# higher agreement from manual set than gpt set"
   ]
  },
  {
   "cell_type": "code",
   "execution_count": 8,
   "metadata": {},
   "outputs": [],
   "source": [
    "df_1 = df[\"gpt\"]\n",
    "df_1.to_csv('writegpt_2.tsv', sep='\\t')"
   ]
  },
  {
   "cell_type": "code",
   "execution_count": 9,
   "metadata": {},
   "outputs": [],
   "source": [
    "array_1 = np.array((a1,a2,a3,a4)).T\n",
    "# array_1 = np.array((a4,a1)).T # Edwin and sabina agree with each other "
   ]
  },
  {
   "cell_type": "code",
   "execution_count": 10,
   "metadata": {},
   "outputs": [
    {
     "name": "stdout",
     "output_type": "stream",
     "text": [
      "[['none' 'none' 'none' 'communication']\n",
      " ['none' 'none' 'none' 'none']\n",
      " ['communication' 'communication' 'communication' 'communication']\n",
      " ['communication' 'interpersonal' 'communication' 'communication']\n",
      " ['learning' 'none' 'none' 'communication']\n",
      " ['communication' 'communication' 'learning' 'communication']\n",
      " ['communication' 'learning' 'communication' 'communication']\n",
      " ['communication' 'none' 'communication' 'communication']\n",
      " ['none' 'social' 'none' 'interpersonal']\n",
      " ['social' 'social' 'social' 'major']\n",
      " ['none' 'none' 'none' 'interpersonal']\n",
      " ['none' 'none' 'none' 'interpersonal']\n",
      " ['none' 'none' 'none' 'interpersonal']\n",
      " ['none' 'none' 'none' 'major']\n",
      " ['social' 'social' 'social' 'interpersonal']\n",
      " ['none' 'none' 'none' 'interpersonal']\n",
      " ['general' 'general' 'general' 'general']\n",
      " ['domestic' 'none' 'domestic' 'general']\n",
      " ['domestic' 'general' 'domestic' 'general']\n",
      " ['domestic' 'general' 'domestic' 'general']\n",
      " ['general' 'none' 'general' 'domestic']\n",
      " ['general' 'none' 'general' 'general']\n",
      " ['general' 'none' 'general' 'general']\n",
      " ['none' 'none' 'none' 'interpersonal']\n",
      " ['interpersonal' 'interpersonal' 'interpersonal' 'interpersonal']\n",
      " ['none' 'none' 'none' 'interpersonal']\n",
      " ['interpersonal' 'interpersonal' 'interpersonal' 'interpersonal']\n",
      " ['none' 'none' 'general' 'interpersonal']\n",
      " ['interpersonal' 'interpersonal' 'interpersonal' 'interpersonal']\n",
      " ['interpersonal' 'interpersonal' 'interpersonal' 'interpersonal']\n",
      " ['interpersonal' 'interpersonal' 'interpersonal' 'interpersonal']\n",
      " ['interpersonal' 'interpersonal' 'interpersonal' 'interpersonal']\n",
      " ['none' 'none' 'none' 'none']\n",
      " ['none' 'none' 'none' 'none']\n",
      " ['general' 'general' 'general' 'domestic']\n",
      " ['none' 'none' 'none' 'communication']\n",
      " ['none' 'none' 'learning' 'learning']\n",
      " ['learning' 'none' 'learning' 'communication']\n",
      " ['general' 'general' 'learning' 'learning']\n",
      " ['learning' 'learning' 'learning' 'learning']\n",
      " ['none' 'none' 'none' 'none']]\n"
     ]
    }
   ],
   "source": [
    "print(array_1)"
   ]
  },
  {
   "cell_type": "code",
   "execution_count": 11,
   "metadata": {},
   "outputs": [],
   "source": [
    "list_array_2 = []\n",
    "for row in array_1:\n",
    "    count = []\n",
    "    c0 = 0\n",
    "    c1 = 0\n",
    "    c2 = 0\n",
    "    c3 = 0\n",
    "    c4 = 0\n",
    "    c5 = 0\n",
    "    c6 = 0\n",
    "    c7 = 0\n",
    "    c8 = 0\n",
    "    c9 = 0\n",
    "    for c in row:\n",
    "        if c == \"learning\":\n",
    "            c0 += 1\n",
    "        elif c == \"general\":\n",
    "            c1 += 1\n",
    "        elif c == \"communication\":\n",
    "            c2 += 1\n",
    "        elif c == \"mobility\":\n",
    "            c3 += 1\n",
    "        elif c == \"selfcare\":\n",
    "            c4 += 1\n",
    "        elif c == \"domestic\":\n",
    "            c5 += 1\n",
    "        elif c == \"interpersonal\":\n",
    "            c6 += 1\n",
    "        elif c == \"major\":\n",
    "            c7 += 1\n",
    "        elif c == \"social\":\n",
    "            c8 += 1\n",
    "        elif c == \"none\":\n",
    "            c9 += 1\n",
    "        else:\n",
    "            print(\"ERROR !!! not expected label:\", c)\n",
    "        count = [c0, c1, c2, c3, c4, c5, c6, c7, c8, c9]\n",
    "    list_array_2.append(count)"
   ]
  },
  {
   "cell_type": "code",
   "execution_count": 12,
   "metadata": {},
   "outputs": [
    {
     "name": "stdout",
     "output_type": "stream",
     "text": [
      "[[0 0 1 0 0 0 0 0 0 3]\n",
      " [0 0 0 0 0 0 0 0 0 4]\n",
      " [0 0 4 0 0 0 0 0 0 0]\n",
      " [0 0 3 0 0 0 1 0 0 0]\n",
      " [1 0 1 0 0 0 0 0 0 2]\n",
      " [1 0 3 0 0 0 0 0 0 0]\n",
      " [1 0 3 0 0 0 0 0 0 0]\n",
      " [0 0 3 0 0 0 0 0 0 1]\n",
      " [0 0 0 0 0 0 1 0 1 2]\n",
      " [0 0 0 0 0 0 0 1 3 0]\n",
      " [0 0 0 0 0 0 1 0 0 3]\n",
      " [0 0 0 0 0 0 1 0 0 3]\n",
      " [0 0 0 0 0 0 1 0 0 3]\n",
      " [0 0 0 0 0 0 0 1 0 3]\n",
      " [0 0 0 0 0 0 1 0 3 0]\n",
      " [0 0 0 0 0 0 1 0 0 3]\n",
      " [0 4 0 0 0 0 0 0 0 0]\n",
      " [0 1 0 0 0 2 0 0 0 1]\n",
      " [0 2 0 0 0 2 0 0 0 0]\n",
      " [0 2 0 0 0 2 0 0 0 0]\n",
      " [0 2 0 0 0 1 0 0 0 1]\n",
      " [0 3 0 0 0 0 0 0 0 1]\n",
      " [0 3 0 0 0 0 0 0 0 1]\n",
      " [0 0 0 0 0 0 1 0 0 3]\n",
      " [0 0 0 0 0 0 4 0 0 0]\n",
      " [0 0 0 0 0 0 1 0 0 3]\n",
      " [0 0 0 0 0 0 4 0 0 0]\n",
      " [0 1 0 0 0 0 1 0 0 2]\n",
      " [0 0 0 0 0 0 4 0 0 0]\n",
      " [0 0 0 0 0 0 4 0 0 0]\n",
      " [0 0 0 0 0 0 4 0 0 0]\n",
      " [0 0 0 0 0 0 4 0 0 0]\n",
      " [0 0 0 0 0 0 0 0 0 4]\n",
      " [0 0 0 0 0 0 0 0 0 4]\n",
      " [0 3 0 0 0 1 0 0 0 0]\n",
      " [0 0 1 0 0 0 0 0 0 3]\n",
      " [2 0 0 0 0 0 0 0 0 2]\n",
      " [2 0 1 0 0 0 0 0 0 1]\n",
      " [2 2 0 0 0 0 0 0 0 0]\n",
      " [4 0 0 0 0 0 0 0 0 0]\n",
      " [0 0 0 0 0 0 0 0 0 4]]\n"
     ]
    }
   ],
   "source": [
    "array_2 = np.array(list_array_2)\n",
    "print(array_2)"
   ]
  },
  {
   "cell_type": "code",
   "execution_count": 172,
   "metadata": {},
   "outputs": [],
   "source": [
    "# fleiss_kappa_count(array_2) # 0.6924\n",
    "# fleiss_kappa(array_2, method='fleiss') # 0.6924 (only human annotators) substantial "
   ]
  },
  {
   "cell_type": "code",
   "execution_count": 13,
   "metadata": {},
   "outputs": [
    {
     "data": {
      "text/plain": [
       "0.48611894466378397"
      ]
     },
     "execution_count": 13,
     "metadata": {},
     "output_type": "execute_result"
    }
   ],
   "source": [
    "fleiss_kappa(array_2, method='fleiss') # moderate agreement 0.5802 weak agreemetn"
   ]
  },
  {
   "cell_type": "code",
   "execution_count": 14,
   "metadata": {},
   "outputs": [
    {
     "data": {
      "text/plain": [
       "0.4861"
      ]
     },
     "execution_count": 14,
     "metadata": {},
     "output_type": "execute_result"
    }
   ],
   "source": [
    "fleiss_kappa_count(array_2) "
   ]
  },
  {
   "cell_type": "code",
   "execution_count": null,
   "metadata": {},
   "outputs": [],
   "source": []
  }
 ],
 "metadata": {
  "kernelspec": {
   "display_name": "base",
   "language": "python",
   "name": "python3"
  },
  "language_info": {
   "codemirror_mode": {
    "name": "ipython",
    "version": 3
   },
   "file_extension": ".py",
   "mimetype": "text/x-python",
   "name": "python",
   "nbconvert_exporter": "python",
   "pygments_lexer": "ipython3",
   "version": "3.8.8"
  },
  "orig_nbformat": 4
 },
 "nbformat": 4,
 "nbformat_minor": 2
}
