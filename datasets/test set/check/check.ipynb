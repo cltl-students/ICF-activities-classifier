{
 "cells": [
  {
   "cell_type": "code",
   "execution_count": 17,
   "metadata": {},
   "outputs": [],
   "source": [
    "import pandas as pd"
   ]
  },
  {
   "cell_type": "code",
   "execution_count": 22,
   "metadata": {},
   "outputs": [],
   "source": [
    "df = pd.read_csv('./copy for arrange robot conversation - temporary.tsv', sep='\\t',header=None,keep_default_na=False)\n",
    "c54 = df[0].tolist()\n",
    "c63 = df[1].tolist()"
   ]
  },
  {
   "cell_type": "code",
   "execution_count": null,
   "metadata": {},
   "outputs": [],
   "source": []
  },
  {
   "cell_type": "code",
   "execution_count": 33,
   "metadata": {},
   "outputs": [],
   "source": [
    "def get_constr(l):\n",
    "    \"\"\"\n",
    "    \"\"\"\n",
    "    l_con = []\n",
    "    sep = ['-'*20]\n",
    "    string = ''\n",
    "    for i, e in enumerate(l):\n",
    "        if e not in sep:\n",
    "            string = string + e\n",
    "        try:    \n",
    "            if l[i+1] in sep:\n",
    "                l_con.append(string)\n",
    "                string = ''\n",
    "        except IndexError:\n",
    "            pass\n",
    "    return l_con\n"
   ]
  },
  {
   "cell_type": "code",
   "execution_count": 37,
   "metadata": {},
   "outputs": [
    {
     "name": "stdout",
     "output_type": "stream",
     "text": [
      "54\n",
      "63\n"
     ]
    }
   ],
   "source": [
    "l54 = get_constr(c54)\n",
    "print(len(l54))\n",
    "l63 = get_constr(c63)\n",
    "print(len(l63))"
   ]
  },
  {
   "cell_type": "code",
   "execution_count": 39,
   "metadata": {},
   "outputs": [
    {
     "name": "stdout",
     "output_type": "stream",
     "text": [
      "9\n"
     ]
    },
    {
     "data": {
      "text/plain": [
       "[\"What do you find the most annoying household chore to do?I find that ironing, I do that as little as possibleBy buying clothes that do not wrinkle?Yes, actually that's how I deal with it, hahaThat seems like a good option to reduce the household burdenI also have a clean up worker once a weekOh good, with what tasks is he helping you out?Especially with cleaning the toilets and bathroom.Oh yes, those are pretty heavy tasks that have to be done at least once a week.Yes, because of my back problem that's a problem for me.Does your back still hurt?Yes, especially in tasks where I have to bend over.Great to have help then!\",\n",
       " \"Do you often meet with family when you have a day off?Yes, we are very close as a family and I enjoy spending time with them.Do you also go on vacation together?Ye, we go skiing together every yearOh nice, in our family we only see each other on birthdaysIs that okay for you guys?Yes, we're not that closeDo you have a brother or sister?I have a brother, but we rarely see each other.Does your physical disability have anything to do with that?Yes, I can't travel far and we live far away from each otherThat is unfortunate\",\n",
       " \"What did you study?I studied law, but went in a completely different directionSo what are you doing now?I have done additional courses focused on management in healthcareOh, and do you work in that now?Yes, my courses led to a management job in healthcareWhat education did you do then?A master's degree from the University of Rotterdam.Did you learn a lot from that?Yes, a lot that I can now apply in my job\",\n",
       " \"who does the dishes in your housewell, that should be me doing the dishesoh, why so?oh, I suppose its kind of a tradition that the woman takes care of the dishescan you still manage to do the dishes?oh yes, but there is a difference compared to a couple of years ago in doing the disheshow can you do the dishes different?we were used to doing the dishes 3 times a day, when the kids were still at homeah, you mean that you do the dishes not as many times as before?yes, now sometimes don't do the dishes at allit can become messy when you don't do the dishes, don't you thinkI used to be more tidy with regard to the dishes than before, I suppose you're right\",\n",
       " 'when I got out of bed this morning I almost slippedoh really, why did you slip?not sure, I think my head was clear yet and I got up to fastooh, that is understandable, you should whatch out when getting up at your agenot funny, I never have trouble getting out of bed beforedid anything change recently?come to think of it, I did start medication recently and on the disclosure I read dissyness could be a side effecta, well; there is you explanation than for nearly slipping!',\n",
       " \"did you talk with your parents about the thing the other day?I tried to, but I did not get the chance?what do you mean? did you not have the time or were you not able to start the conversation?I really found it hard to start the conversationwhat made it difficult to start the conversation?I am afraid my parents will get mad at me for doing the thingdon't you think they will be more angry when they find out for themselves?you are right, it's best to start the conversation myself\",\n",
       " \"I feel it's difficult for me to hear things clearly nowadays.Hello, Hello. Can you hear me?Sure, but if you are 5 meters away from me, then it's difficult.When did you notice that?It starts around 1 year ago but it didn't affect my daily life yet. So I didn't care about it that much. However, recently, when I talked to my friends, I had to ask them to speak louder quite often so that I can hear what they said.Have your ears ever been hurt or impaired by very loud sounds?None that I've known of.That might be caused by aging. It's better to have a check with your GP.\",\n",
       " \"Hi, how are you doing; are you still painting?No, not as much as I would likeHow come?My right arm hurts a lot when I paint.Oh that's annoying, can you do anything about it?I'm being treated by a physiotherapist and it's getting better.Can you express yourself creatively in any other way at the moment?Yes, I go to museums a lot to enjoy artOh, that's niceYes, looking at art also gives me a lot of pleasure\",\n",
       " \"I feel it's difficult for me to get out of bed recently.Oh, why?I feel it was hard to breathe smoothly when I tried to get up from the bed.Do you have any chronic lung disease or do you smoke?My body check shows that there are some problems, and the doctor told me to have regular checks. Emm, I have smoked for almost 40 years already.How long have you felt difficult to get out of bed already? Do you have the same feeling every time when you get out of bed?It's been almost 2 months, and yes, I have the same feeling almost every time.\"]"
      ]
     },
     "execution_count": 39,
     "metadata": {},
     "output_type": "execute_result"
    }
   ],
   "source": [
    "extra = []\n",
    "for c in l63:\n",
    "    if c in l54:\n",
    "        l54.remove(c)\n",
    "    elif c not in l54:\n",
    "        extra.append(c)\n",
    "print(len(extra))\n",
    "extra\n"
   ]
  },
  {
   "cell_type": "code",
   "execution_count": null,
   "metadata": {},
   "outputs": [],
   "source": []
  }
 ],
 "metadata": {
  "kernelspec": {
   "display_name": "base",
   "language": "python",
   "name": "python3"
  },
  "language_info": {
   "codemirror_mode": {
    "name": "ipython",
    "version": 3
   },
   "file_extension": ".py",
   "mimetype": "text/x-python",
   "name": "python",
   "nbconvert_exporter": "python",
   "pygments_lexer": "ipython3",
   "version": "3.8.8"
  },
  "orig_nbformat": 4
 },
 "nbformat": 4,
 "nbformat_minor": 2
}
