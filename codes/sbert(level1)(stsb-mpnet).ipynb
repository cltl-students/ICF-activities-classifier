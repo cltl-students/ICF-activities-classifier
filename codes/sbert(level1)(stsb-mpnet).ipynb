{
 "cells": [
  {
   "cell_type": "code",
   "execution_count": 1,
   "metadata": {},
   "outputs": [],
   "source": [
    "import pandas as pd\n",
    "import numpy as np\n",
    "from sklearn.metrics.pairwise import cosine_similarity\n",
    "from sentence_transformers import SentenceTransformer\n",
    "# for reprot and visualization and find the best threshold\n",
    "from sklearn.metrics import confusion_matrix\n",
    "from sklearn.metrics import classification_report\n",
    "from sklearn.metrics import f1_score\n",
    "import matplotlib.pyplot as plt\n",
    "from sklearn.metrics import confusion_matrix, ConfusionMatrixDisplay"
   ]
  },
  {
   "cell_type": "code",
   "execution_count": 2,
   "metadata": {},
   "outputs": [
    {
     "name": "stdout",
     "output_type": "stream",
     "text": [
      "num of train sentences: 320\n"
     ]
    }
   ],
   "source": [
    "with open (\"../datasets/ICF/icf_level123_def.txt\",'r',encoding='utf-8') as infile:\n",
    "    raw_level123_def = infile.read()\n",
    "\n",
    "level123_def = raw_level123_def.split('.')\n",
    "print('num of train sentences:', len(level123_def))"
   ]
  },
  {
   "cell_type": "code",
   "execution_count": 3,
   "metadata": {},
   "outputs": [
    {
     "name": "stdout",
     "output_type": "stream",
     "text": [
      "clean labels\n"
     ]
    }
   ],
   "source": [
    "df_test = pd.read_csv('../datasets/test set/full_test_sep.tsv', sep='\\t')\n",
    "df_icf = pd.read_csv('../datasets/ICF/ICF_def_label.tsv', sep='\\t')\n",
    "\n",
    "icf_def = df_icf['def'][:-1].tolist()\n",
    "labels = df_icf['label'].tolist()\n",
    "sentence = df_test['utterances'].tolist()\n",
    "\n",
    "# transform label to num\n",
    "df_test.loc[df_test['gold'] == 'learning', 'gold'] = 0\n",
    "df_test.loc[df_test['gold'] == 'general', 'gold'] = 1\n",
    "df_test.loc[df_test['gold'] == 'communication', 'gold'] = 2\n",
    "df_test.loc[df_test['gold'] == 'mobility', 'gold'] = 3\n",
    "df_test.loc[df_test['gold'] == 'selfcare', 'gold'] = 4\n",
    "df_test.loc[df_test['gold'] == 'domestic', 'gold'] = 5\n",
    "df_test.loc[df_test['gold'] == 'interpersonal', 'gold'] = 6\n",
    "df_test.loc[df_test['gold'] == 'major', 'gold'] = 7\n",
    "df_test.loc[df_test['gold'] == 'social', 'gold'] = 8\n",
    "df_test.loc[df_test['gold'] == 'none', 'gold'] = 9\n",
    "\n",
    "checklabel = [0,1,2,3,4,5,6,7,8,9]\n",
    "gold = df_test['gold'].tolist()\n",
    "for n,i in enumerate(gold):\n",
    "    if i not in checklabel:\n",
    "        if i != '-'*20:\n",
    "            print(i,n)\n",
    "print('clean labels')"
   ]
  },
  {
   "cell_type": "code",
   "execution_count": 4,
   "metadata": {},
   "outputs": [
    {
     "name": "stdout",
     "output_type": "stream",
     "text": [
      "with sep processing\n",
      "with sep processing\n"
     ]
    }
   ],
   "source": [
    "if '-'*20 in sentence:\n",
    "    print('with sep processing')\n",
    "    sentence = [ i for i in sentence if i != '-'*20]\n",
    "\n",
    "if '-'*20 in gold:\n",
    "    print('with sep processing')\n",
    "    gold = [ i for i in gold if i != '-'*20]"
   ]
  },
  {
   "cell_type": "code",
   "execution_count": 5,
   "metadata": {},
   "outputs": [
    {
     "name": "stdout",
     "output_type": "stream",
     "text": [
      "num of def: 9\n",
      "num of label: 10\n",
      "num of test sentences: 583\n"
     ]
    }
   ],
   "source": [
    "print('num of def:', len(icf_def))\n",
    "print('num of label:', len(labels))\n",
    "print('num of test sentences:', len(sentence))"
   ]
  },
  {
   "cell_type": "code",
   "execution_count": 6,
   "metadata": {},
   "outputs": [],
   "source": [
    "model_name = 'stsb-mpnet-base-v2'\n",
    "model_trained = SentenceTransformer(model_name)"
   ]
  },
  {
   "cell_type": "code",
   "execution_count": 7,
   "metadata": {},
   "outputs": [
    {
     "name": "stdout",
     "output_type": "stream",
     "text": [
      "score dimension: (583, 9)\n"
     ]
    }
   ],
   "source": [
    "sentence_emb_1 = model_trained.encode(sentence)\n",
    "sentence_emb_2 = model_trained.encode(icf_def)\n",
    "all_cos_score = cosine_similarity(sentence_emb_1, sentence_emb_2)\n",
    "print('score dimension:', all_cos_score.shape)"
   ]
  },
  {
   "cell_type": "code",
   "execution_count": 8,
   "metadata": {},
   "outputs": [
    {
     "name": "stdout",
     "output_type": "stream",
     "text": [
      "True\n",
      "max cos: ['0.59']\n",
      "max cos of each row: total rows: 583\n",
      "[0.225, 0.211, 0.109, 0.19, 0.246, 0.283, 0.323, 0.22, 0.137, 0.082, 0.167, 0.137, 0.253, 0.28, 0.167, 0.33, 0.189, 0.285, 0.283, 0.275, 0.213, 0.178, 0.182, 0.157, 0.234, 0.266, 0.128, 0.217, 0.16, 0.256, 0.233, 0.256, 0.234, 0.257, 0.25, 0.18, 0.188, 0.204, 0.22, 0.205, 0.155, 0.382, 0.177, 0.289, 0.329, 0.279, 0.296, 0.389, 0.159, 0.486, 0.323, 0.309, 0.303, 0.308, 0.238, 0.321, 0.312, 0.294, 0.487, 0.237, 0.503, 0.559, 0.476, 0.399, 0.368, 0.579, 0.468, 0.142, 0.44, 0.194, 0.161, 0.206, 0.059, 0.162, 0.232, 0.2, 0.179, 0.196, 0.139, 0.213, 0.164, 0.247, 0.165, 0.186, 0.11, 0.213, 0.112, 0.19, 0.088, 0.21, 0.174, 0.251, 0.226, 0.201, 0.34, 0.437, 0.412, 0.35, 0.301, 0.284, 0.338, 0.139, 0.132, 0.375, 0.151, 0.155, 0.214, 0.241, 0.132, 0.319, 0.085, 0.38, 0.297, 0.207, 0.299, 0.26, 0.006, 0.312, 0.309, 0.146, 0.216, 0.147, 0.108, 0.252, 0.177, 0.198, 0.228, 0.114, 0.125, 0.338, 0.094, 0.252, 0.231, 0.208, 0.043, 0.255, 0.325, 0.33, 0.299, 0.223, 0.351, 0.351, 0.339, 0.168, 0.141, 0.164, 0.18, 0.07, 0.221, 0.152, 0.237, 0.124, 0.12, 0.147, 0.329, 0.098, 0.151, 0.145, 0.214, 0.192, 0.236, 0.19, 0.344, 0.352, 0.247, 0.162, 0.167, 0.518, 0.512, 0.243, 0.159, 0.271, 0.124, 0.227, 0.373, 0.449, 0.246, 0.382, 0.217, 0.228, 0.12, 0.165, 0.137, 0.317, 0.257, 0.252, 0.302, 0.255, 0.256, 0.151, 0.204, 0.095, 0.214, 0.245, 0.287, 0.353, 0.187, 0.267, 0.232, 0.183, 0.108, 0.223, 0.127, 0.288, 0.414, 0.225, 0.421, 0.282, 0.338, 0.576, 0.392, 0.284, 0.239, 0.307, 0.182, 0.209, 0.158, 0.187, 0.178, 0.145, 0.192, 0.191, 0.207, 0.104, 0.349, 0.19, 0.181, 0.165, 0.208, 0.126, 0.313, 0.144, 0.554, 0.343, 0.447, 0.126, 0.227, 0.243, 0.27, 0.184, 0.193, 0.238, 0.229, 0.14, 0.346, 0.12, 0.196, 0.166, 0.138, 0.117, 0.47, 0.286, 0.234, 0.251, 0.403, 0.313, 0.424, 0.396, 0.424, 0.108, 0.091, 0.28, 0.223, 0.176, 0.187, 0.195, 0.229, 0.196, 0.239, 0.055, -0.003, 0.255, 0.269, 0.18, 0.161, 0.075, 0.123, 0.22, 0.192, 0.161, 0.198, 0.154, 0.177, 0.361, 0.394, 0.246, 0.274, 0.187, 0.263, 0.288, 0.25, 0.237, 0.373, 0.201, 0.183, 0.243, 0.304, 0.162, 0.381, 0.344, 0.274, 0.156, 0.161, 0.173, 0.318, 0.204, 0.268, 0.064, 0.194, 0.305, 0.185, 0.122, 0.178, 0.323, 0.513, 0.348, 0.132, 0.431, 0.415, 0.366, 0.403, 0.349, 0.376, 0.334, 0.386, 0.399, 0.046, 0.052, 0.086, 0.034, 0.101, 0.138, 0.068, 0.049, 0.101, 0.086, 0.25, 0.285, 0.27, 0.238, 0.125, 0.103, 0.162, 0.092, 0.171, 0.125, 0.097, 0.182, 0.113, 0.081, 0.077, 0.317, 0.128, 0.152, 0.255, 0.174, 0.217, 0.057, 0.282, 0.447, 0.282, 0.441, 0.179, 0.173, 0.163, 0.32, 0.418, 0.135, 0.224, 0.19, 0.318, 0.198, 0.269, 0.295, 0.386, 0.242, 0.339, 0.149, 0.055, 0.181, 0.192, 0.234, 0.073, 0.138, 0.141, 0.111, 0.05, 0.268, 0.144, 0.292, 0.142, 0.143, 0.135, 0.212, 0.161, 0.205, 0.255, 0.151, 0.275, 0.177, 0.193, 0.12, 0.145, 0.139, 0.072, 0.144, 0.153, 0.19, 0.223, 0.066, 0.111, 0.083, 0.226, 0.555, 0.423, 0.594, 0.242, 0.229, 0.295, 0.371, 0.38, 0.513, 0.584, 0.525, 0.329, 0.503, 0.349, 0.181, 0.277, 0.103, 0.357, 0.327, 0.213, 0.157, 0.341, 0.137, 0.328, 0.29, 0.174, 0.125, 0.216, 0.197, 0.064, 0.195, 0.325, 0.347, 0.142, 0.447, 0.32, 0.316, 0.265, 0.361, 0.261, 0.196, 0.168, 0.135, 0.137, 0.165, 0.223, 0.219, 0.209, 0.15, 0.218, 0.105, 0.126, 0.077, 0.141, 0.076, 0.155, 0.083, 0.12, 0.248, 0.388, 0.188, 0.253, 0.148, 0.181, 0.097, 0.192, 0.367, 0.075, 0.277, 0.148, 0.02, 0.225, 0.132, 0.221, 0.26, 0.215, 0.192, 0.202, 0.17, 0.216, 0.045, 0.173, 0.279, 0.111, 0.316, 0.311, 0.128, 0.255, 0.397, 0.161, 0.204, 0.087, 0.207, 0.045, 0.145, 0.119, 0.229, 0.17, 0.255, 0.163, 0.152, 0.145, 0.13, 0.155, 0.125, 0.04, 0.184, 0.224, 0.368, 0.285, 0.345, 0.224, 0.229, 0.185, 0.281, 0.408, 0.353, 0.394, 0.23, 0.117, 0.11, 0.458, 0.284, 0.355, 0.286, 0.249, 0.394, 0.251, 0.301, 0.302, 0.171, 0.38, 0.237, 0.17, 0.243, 0.242, 0.281, 0.101, 0.05, 0.143, 0.07, 0.232, 0.122, 0.234, 0.166, 0.257, 0.219, 0.198, 0.303, 0.142, 0.353, 0.18, 0.292, 0.149, 0.121, 0.134, 0.075, 0.12, 0.187, 0.121, 0.074, 0.178, 0.11, 0.195, 0.067, 0.05, 0.173, 0.133, 0.158, 0.098]\n",
      "--------------------\n",
      "max cos index of each row: total rows: 583\n",
      "[3 3 4 3 1 1 3 3 4 3 4 4 3 3 3 3 4 3 3 3 3 3 3 4 3 8 3 3 3 3 3 3 3 3 3 3 3\n",
      " 1 1 3 4 0 0 8 7 7 7 0 5 0 7 4 4 4 4 4 4 4 5 8 5 1 5 5 5 5 1 4 4 1 0 2 0 4\n",
      " 1 3 5 1 4 0 4 5 0 4 0 6 3 6 5 4 6 6 6 3 0 0 0 7 0 0 0 6 0 0 4 3 4 3 0 0 8\n",
      " 1 8 6 0 6 8 0 0 4 2 2 2 0 2 1 0 0 0 0 1 0 0 0 6 1 0 8 0 0 1 8 6 8 6 6 4 3\n",
      " 8 8 3 8 0 4 2 0 2 1 2 3 2 6 2 2 2 3 0 2 2 0 6 1 0 2 6 2 6 2 0 2 3 1 3 3 3\n",
      " 4 3 1 3 4 4 5 3 3 8 5 5 1 1 4 3 3 5 1 5 5 5 5 5 5 5 5 5 0 6 0 0 0 1 0 0 4\n",
      " 0 6 5 6 6 3 1 1 1 3 1 1 1 4 3 3 1 1 1 1 2 8 3 0 4 1 4 6 1 5 4 6 5 5 1 4 1\n",
      " 3 3 3 5 4 8 8 8 8 5 3 0 4 4 4 4 6 4 1 4 3 4 4 4 4 4 4 0 4 2 1 3 4 0 3 1 1\n",
      " 3 3 3 4 4 5 2 6 6 6 4 0 0 6 0 1 3 6 5 5 4 5 5 5 5 5 5 5 5 5 0 7 8 3 2 6 0\n",
      " 6 4 7 5 5 5 1 2 4 4 3 2 2 2 4 3 4 4 0 3 3 4 4 0 4 4 6 8 6 6 6 3 1 1 2 2 1\n",
      " 1 1 1 5 1 1 1 0 6 8 2 2 8 0 4 2 0 8 2 2 0 6 0 1 5 5 8 2 1 6 1 4 8 1 6 8 3\n",
      " 6 3 3 4 3 3 5 5 5 5 5 5 5 5 5 5 5 5 5 6 6 2 4 6 6 6 4 6 4 2 2 3 1 2 2 2 4\n",
      " 6 8 6 6 7 8 8 6 4 1 4 1 0 4 1 4 8 0 4 0 4 4 8 6 0 4 4 7 2 7 7 1 0 0 7 5 0\n",
      " 7 5 0 0 1 1 3 4 3 1 1 1 5 1 5 0 5 5 3 4 0 0 1 4 0 4 3 0 0 4 4 3 3 4 4 0 0\n",
      " 5 3 1 6 6 6 5 4 8 8 6 2 6 0 4 4 8 2 6 5 6 8 5 8 5 4 2 2 2 2 2 1 2 2 2 4 0\n",
      " 4 0 6 6 5 1 1 1 1 7 7 1 1 3 4 4 1 6 7 4 5 0 2 8 3 0 7 4]\n"
     ]
    }
   ],
   "source": [
    "# all_cos_score = all_cos_score.tolist()\n",
    "max_cos = [\"%.2f\" % np.max(all_cos_score, axis = None)]\n",
    "max_score_each_row = [\"%.3f\" % n for n in np.amax(all_cos_score, axis = 1)]\n",
    "max_score_each_row = [float(n) for n in max_score_each_row]\n",
    "max_score_ind = np.argmax(all_cos_score, axis =1)\n",
    "print(len(max_score_each_row) == len(max_score_ind))\n",
    "print('max cos:', max_cos)\n",
    "print('max cos of each row:', 'total rows:', len(max_score_each_row))\n",
    "print(max_score_each_row)\n",
    "print('-'*20)\n",
    "print('max cos index of each row:', 'total rows:', len(max_score_ind))\n",
    "print(max_score_ind)\n",
    "# max_score, max_score_ind"
   ]
  },
  {
   "cell_type": "code",
   "execution_count": 9,
   "metadata": {},
   "outputs": [
    {
     "data": {
      "text/plain": [
       "8"
      ]
     },
     "execution_count": 9,
     "metadata": {},
     "output_type": "execute_result"
    }
   ],
   "source": [
    "m = max(max_score_ind)\n",
    "m # the ind list only has 0-8 which are the real category, then we put 9 as index for 'none' in the following section"
   ]
  },
  {
   "cell_type": "code",
   "execution_count": 10,
   "metadata": {},
   "outputs": [
    {
     "name": "stdout",
     "output_type": "stream",
     "text": [
      "threshold list: [0.1, 0.2, 0.3, 0.4, 0.5, 0.53, 0.6, 0.75, 0.8]\n",
      "max-macro fscore: 0.392\n",
      "best threshold 0.2\n"
     ]
    }
   ],
   "source": [
    "zip_scor_ind = list(zip(max_score_each_row, max_score_ind))\n",
    "\n",
    "def get_predictions(zip_scor_ind, threshold):\n",
    "    \"\"\"\"\"\"\n",
    "    # threshold = 0.10\n",
    "    predictions = []\n",
    "    for s, i in zip_scor_ind:\n",
    "        if s >= threshold:\n",
    "            predictions.append(i)\n",
    "        elif s < threshold:\n",
    "            predictions.append(9) # index 9 means 'none'\n",
    "        else:\n",
    "            print('error comparison')\n",
    "    return predictions\n",
    "\n",
    "def get_best_fscore(thresholdlist, zip_scor_ind, gold):\n",
    "    \"\"\"\"\"\"\n",
    "    list_fscore = []\n",
    "    for threshold in thresholdlist:\n",
    "        predictions = get_predictions(zip_scor_ind, threshold)\n",
    "        list_fscore.append(f1_score(gold, predictions,average='macro'))\n",
    "    max_fsc = max(list_fscore)\n",
    "    best_thres = thresholdlist[list_fscore.index(max(list_fscore))]\n",
    "    return(max_fsc, best_thres)\n",
    "\n",
    "# predictions = get_predictions(zip_scor_ind, threshold=0.1)\n",
    "thresholdlist = [0.1,0.2,0.3,0.4,0.5,0.53,0.6,0.75,0.8]\n",
    "max_fsc, best_thres = get_best_fscore(thresholdlist, zip_scor_ind, gold)\n",
    "print('threshold list:',thresholdlist)\n",
    "print('max-macro fscore:', '%.3f' % max_fsc)\n",
    "print('best threshold',best_thres)\n"
   ]
  },
  {
   "cell_type": "code",
   "execution_count": 11,
   "metadata": {},
   "outputs": [
    {
     "name": "stdout",
     "output_type": "stream",
     "text": [
      "stsb-mpnet-base-v2\n",
      "              precision    recall  f1-score   support\n",
      "\n",
      "           0       0.38      0.56      0.45        27\n",
      "           1       0.26      0.36      0.30        33\n",
      "           2       0.43      0.72      0.54        18\n",
      "           3       0.29      0.27      0.28        45\n",
      "           4       0.38      0.39      0.38        31\n",
      "           5       0.79      0.62      0.70        77\n",
      "           6       0.65      0.30      0.41        67\n",
      "           7       0.50      0.14      0.22        35\n",
      "           8       0.30      0.11      0.16        57\n",
      "           9       0.42      0.59      0.49       193\n",
      "\n",
      "    accuracy                           0.44       583\n",
      "   macro avg       0.44      0.41      0.39       583\n",
      "weighted avg       0.46      0.44      0.42       583\n",
      "\n"
     ]
    }
   ],
   "source": [
    "# get classification report \n",
    "# model_name = './output/tsdae-bert-base-uncased-icf-model'\n",
    "print(model_name)\n",
    "predictions = get_predictions(zip_scor_ind, best_thres)\n",
    "confusion = confusion_matrix(gold, predictions)\n",
    "report = classification_report(gold, predictions)\n",
    "\n",
    "print(report)"
   ]
  },
  {
   "cell_type": "code",
   "execution_count": 12,
   "metadata": {},
   "outputs": [
    {
     "name": "stdout",
     "output_type": "stream",
     "text": [
      "0 learning \n",
      "1 general \n",
      "2 communication\n",
      "3 mobility\n",
      "4 selfcare \n",
      "5 domestic \n",
      "6 interpersonal \n",
      "7 major\n",
      "8 social\n",
      "9 none \n"
     ]
    }
   ],
   "source": [
    "for i, label in enumerate(labels):\n",
    "    print(i,label)"
   ]
  },
  {
   "cell_type": "code",
   "execution_count": 13,
   "metadata": {},
   "outputs": [
    {
     "data": {
      "image/png": "[encoded data removed]",
      "text/plain": [
       "<Figure size 432x288 with 2 Axes>"
      ]
     },
     "metadata": {
      "needs_background": "light"
     },
     "output_type": "display_data"
    }
   ],
   "source": [
    "# plot confusion matrix \n",
    "disp = ConfusionMatrixDisplay(confusion_matrix=confusion,display_labels=checklabel)\n",
    "disp.plot()\n",
    "plt.show()"
   ]
  },
  {
   "cell_type": "code",
   "execution_count": 14,
   "metadata": {},
   "outputs": [],
   "source": [
    "model = model_name.split('/')[-1]\n",
    "df_predictions = pd.DataFrame({\n",
    "    'utterances':sentence,\n",
    "    'predictions':predictions\n",
    "    })\n",
    "df_predictions.to_csv(f'../datasets/predictions/predictions_{model}_level_1.tsv', sep='\\t',index=None)"
   ]
  }
 ],
 "metadata": {
  "kernelspec": {
   "display_name": "base",
   "language": "python",
   "name": "python3"
  },
  "language_info": {
   "codemirror_mode": {
    "name": "ipython",
    "version": 3
   },
   "file_extension": ".py",
   "mimetype": "text/x-python",
   "name": "python",
   "nbconvert_exporter": "python",
   "pygments_lexer": "ipython3",
   "version": "3.8.8"
  },
  "orig_nbformat": 4
 },
 "nbformat": 4,
 "nbformat_minor": 2
}
