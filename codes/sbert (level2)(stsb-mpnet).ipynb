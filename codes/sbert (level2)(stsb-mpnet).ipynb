{
 "cells": [
  {
   "cell_type": "code",
   "execution_count": 1,
   "metadata": {},
   "outputs": [],
   "source": [
    "import pandas as pd\n",
    "import numpy as np\n",
    "from sklearn.metrics.pairwise import cosine_similarity\n",
    "from sentence_transformers import SentenceTransformer\n",
    "# for reprot and visualization and find the best threshold\n",
    "from sklearn.metrics import confusion_matrix\n",
    "from sklearn.metrics import classification_report\n",
    "from sklearn.metrics import f1_score\n",
    "import matplotlib.pyplot as plt\n",
    "from sklearn.metrics import confusion_matrix, ConfusionMatrixDisplay"
   ]
  },
  {
   "cell_type": "code",
   "execution_count": 2,
   "metadata": {},
   "outputs": [
    {
     "name": "stdout",
     "output_type": "stream",
     "text": [
      "num of pretrain sentences: 320\n"
     ]
    }
   ],
   "source": [
    "with open (\"../datasets/ICF/icf_level123_def.txt\",'r',encoding='utf-8') as infile:\n",
    "    raw_level123_def = infile.read()\n",
    "\n",
    "level123_def = raw_level123_def.split('.')\n",
    "print('num of pretrain sentences:', len(level123_def))"
   ]
  },
  {
   "cell_type": "code",
   "execution_count": 3,
   "metadata": {},
   "outputs": [],
   "source": [
    "df_test = pd.read_csv('../datasets/test set/full_test_sep.tsv', sep='\\t')\n",
    "df_icf = pd.read_csv('../datasets/ICF/ICF_def_label.tsv', sep='\\t')\n",
    "df_icf_level2 = pd.read_csv('../datasets/ICF/ICF_level2_def_label.tsv', sep='\\t')"
   ]
  },
  {
   "cell_type": "code",
   "execution_count": 4,
   "metadata": {},
   "outputs": [
    {
     "name": "stdout",
     "output_type": "stream",
     "text": [
      "clean test set labels\n"
     ]
    }
   ],
   "source": [
    "icf_def_level2 = df_icf_level2['def-level2'].tolist() # exclude the none label def\n",
    "labels_level2 = df_icf_level2['label-level2']\n",
    "labels_level1 = df_icf['label'].tolist()\n",
    "sentence = df_test['utterances'].tolist()\n",
    "\n",
    "# transform label to num\n",
    "df_test.loc[df_test['gold'] == 'learning', 'gold'] = 0\n",
    "df_test.loc[df_test['gold'] == 'general', 'gold'] = 1\n",
    "df_test.loc[df_test['gold'] == 'communication', 'gold'] = 2\n",
    "df_test.loc[df_test['gold'] == 'mobility', 'gold'] = 3\n",
    "df_test.loc[df_test['gold'] == 'selfcare', 'gold'] = 4\n",
    "df_test.loc[df_test['gold'] == 'domestic', 'gold'] = 5\n",
    "df_test.loc[df_test['gold'] == 'interpersonal', 'gold'] = 6\n",
    "df_test.loc[df_test['gold'] == 'major', 'gold'] = 7\n",
    "df_test.loc[df_test['gold'] == 'social', 'gold'] = 8\n",
    "df_test.loc[df_test['gold'] == 'none', 'gold'] = 9\n",
    "\n",
    "checklabel = [0,1,2,3,4,5,6,7,8,9]\n",
    "gold = df_test['gold'].tolist()\n",
    "for n,i in enumerate(gold):\n",
    "    if i not in checklabel:\n",
    "        if i != '-'*20:\n",
    "            print(i,n)\n",
    "print('clean test set labels')"
   ]
  },
  {
   "cell_type": "code",
   "execution_count": 5,
   "metadata": {},
   "outputs": [
    {
     "name": "stdout",
     "output_type": "stream",
     "text": [
      "with sep processing\n",
      "with sep processing\n"
     ]
    }
   ],
   "source": [
    "if '-'*20 in sentence:\n",
    "    print('with sep processing')\n",
    "    sentence = [ i for i in sentence if i != '-'*20]\n",
    "\n",
    "if '-'*20 in gold:\n",
    "    print('with sep processing')\n",
    "    gold = [ i for i in gold if i != '-'*20]"
   ]
  },
  {
   "cell_type": "code",
   "execution_count": 6,
   "metadata": {},
   "outputs": [
    {
     "name": "stdout",
     "output_type": "stream",
     "text": [
      "num of def: 34\n",
      "num of level1 labels: 10\n",
      "num of level2 labels: 34\n",
      "num of test sentences: 583\n"
     ]
    }
   ],
   "source": [
    "print('num of def:', len(icf_def_level2))\n",
    "print('num of level1 labels:', len(labels_level1))\n",
    "print('num of level2 labels:', len(labels_level2))\n",
    "print('num of test sentences:',len(sentence))"
   ]
  },
  {
   "cell_type": "code",
   "execution_count": 7,
   "metadata": {},
   "outputs": [],
   "source": [
    "model_name = 'stsb-mpnet-base-v2'\n",
    "model_trained = SentenceTransformer(model_name)"
   ]
  },
  {
   "cell_type": "code",
   "execution_count": 8,
   "metadata": {},
   "outputs": [
    {
     "name": "stdout",
     "output_type": "stream",
     "text": [
      "score dimension: (583, 34)\n"
     ]
    }
   ],
   "source": [
    "sentence_emb_1 = model_trained.encode(sentence)\n",
    "sentence_emb_2 = model_trained.encode(icf_def_level2)\n",
    "all_cos_score = cosine_similarity(sentence_emb_1, sentence_emb_2)\n",
    "print('score dimension:', all_cos_score.shape)"
   ]
  },
  {
   "cell_type": "code",
   "execution_count": 9,
   "metadata": {},
   "outputs": [
    {
     "name": "stdout",
     "output_type": "stream",
     "text": [
      "True\n",
      "max cos: ['0.64']\n",
      "max cos of each row: total rows: 583\n",
      "[0.247, 0.247, 0.241, 0.308, 0.358, 0.369, 0.326, 0.291, 0.179, 0.11, 0.254, 0.252, 0.398, 0.348, 0.212, 0.393, 0.333, 0.263, 0.305, 0.351, 0.378, 0.309, 0.274, 0.277, 0.37, 0.414, 0.259, 0.31, 0.248, 0.275, 0.209, 0.283, 0.282, 0.265, 0.28, 0.211, 0.269, 0.24, 0.257, 0.238, 0.288, 0.457, 0.202, 0.297, 0.331, 0.441, 0.328, 0.534, 0.171, 0.414, 0.348, 0.445, 0.375, 0.396, 0.35, 0.409, 0.349, 0.419, 0.523, 0.293, 0.503, 0.486, 0.491, 0.35, 0.308, 0.596, 0.594, 0.232, 0.442, 0.246, 0.156, 0.393, 0.11, 0.269, 0.268, 0.228, 0.363, 0.295, 0.199, 0.189, 0.259, 0.37, 0.26, 0.308, 0.163, 0.372, 0.175, 0.286, 0.206, 0.267, 0.284, 0.335, 0.282, 0.239, 0.48, 0.395, 0.465, 0.3, 0.287, 0.293, 0.357, 0.162, 0.214, 0.341, 0.282, 0.209, 0.41, 0.393, 0.195, 0.347, 0.108, 0.446, 0.368, 0.263, 0.257, 0.34, 0.17, 0.313, 0.247, 0.151, 0.298, 0.357, 0.102, 0.291, 0.177, 0.304, 0.227, 0.135, 0.136, 0.396, 0.159, 0.248, 0.305, 0.224, 0.15, 0.302, 0.291, 0.353, 0.279, 0.262, 0.548, 0.365, 0.361, 0.274, 0.233, 0.269, 0.208, 0.146, 0.288, 0.321, 0.181, 0.196, 0.153, 0.23, 0.439, 0.241, 0.27, 0.238, 0.236, 0.186, 0.329, 0.243, 0.421, 0.444, 0.316, 0.281, 0.245, 0.461, 0.5, 0.327, 0.325, 0.258, 0.181, 0.272, 0.417, 0.464, 0.316, 0.419, 0.22, 0.257, 0.206, 0.271, 0.157, 0.289, 0.282, 0.289, 0.423, 0.381, 0.399, 0.116, 0.233, 0.274, 0.382, 0.498, 0.575, 0.351, 0.265, 0.3, 0.276, 0.204, 0.223, 0.267, 0.205, 0.44, 0.49, 0.32, 0.365, 0.361, 0.35, 0.539, 0.508, 0.498, 0.302, 0.253, 0.194, 0.297, 0.251, 0.337, 0.281, 0.232, 0.32, 0.365, 0.301, 0.211, 0.328, 0.361, 0.271, 0.291, 0.302, 0.22, 0.372, 0.223, 0.605, 0.505, 0.644, 0.143, 0.415, 0.335, 0.37, 0.269, 0.229, 0.279, 0.248, 0.207, 0.446, 0.303, 0.238, 0.268, 0.22, 0.213, 0.486, 0.408, 0.371, 0.232, 0.381, 0.331, 0.396, 0.624, 0.488, 0.166, 0.15, 0.327, 0.492, 0.22, 0.275, 0.339, 0.368, 0.39, 0.25, 0.099, 0.217, 0.234, 0.413, 0.289, 0.302, 0.167, 0.173, 0.422, 0.379, 0.343, 0.339, 0.36, 0.43, 0.415, 0.563, 0.373, 0.267, 0.293, 0.273, 0.468, 0.387, 0.335, 0.329, 0.42, 0.246, 0.404, 0.471, 0.259, 0.551, 0.523, 0.455, 0.221, 0.259, 0.269, 0.347, 0.271, 0.308, 0.142, 0.174, 0.354, 0.197, 0.194, 0.235, 0.401, 0.573, 0.536, 0.148, 0.529, 0.523, 0.417, 0.46, 0.512, 0.414, 0.451, 0.545, 0.501, 0.288, 0.274, 0.252, 0.242, 0.297, 0.311, 0.253, 0.17, 0.286, 0.18, 0.47, 0.531, 0.465, 0.277, 0.292, 0.306, 0.242, 0.294, 0.351, 0.208, 0.231, 0.269, 0.157, 0.145, 0.103, 0.303, 0.219, 0.316, 0.183, 0.198, 0.267, 0.101, 0.453, 0.478, 0.301, 0.465, 0.227, 0.252, 0.239, 0.391, 0.487, 0.26, 0.356, 0.344, 0.439, 0.393, 0.38, 0.414, 0.565, 0.32, 0.459, 0.209, 0.142, 0.279, 0.257, 0.361, 0.198, 0.205, 0.243, 0.24, 0.141, 0.32, 0.18, 0.382, 0.288, 0.258, 0.237, 0.225, 0.308, 0.248, 0.277, 0.271, 0.398, 0.284, 0.226, 0.336, 0.173, 0.227, 0.198, 0.302, 0.204, 0.214, 0.197, 0.095, 0.177, 0.165, 0.245, 0.524, 0.403, 0.588, 0.375, 0.263, 0.378, 0.322, 0.398, 0.541, 0.605, 0.484, 0.443, 0.513, 0.412, 0.24, 0.444, 0.221, 0.414, 0.455, 0.38, 0.252, 0.527, 0.271, 0.314, 0.352, 0.231, 0.188, 0.25, 0.432, 0.204, 0.218, 0.438, 0.44, 0.259, 0.405, 0.457, 0.331, 0.37, 0.414, 0.284, 0.16, 0.256, 0.228, 0.129, 0.276, 0.25, 0.281, 0.369, 0.25, 0.297, 0.254, 0.452, 0.202, 0.231, 0.113, 0.318, 0.454, 0.533, 0.306, 0.338, 0.272, 0.351, 0.199, 0.26, 0.144, 0.352, 0.371, 0.142, 0.288, 0.231, 0.124, 0.372, 0.231, 0.286, 0.321, 0.26, 0.295, 0.28, 0.227, 0.265, 0.151, 0.276, 0.279, 0.159, 0.348, 0.374, 0.175, 0.346, 0.478, 0.224, 0.232, 0.122, 0.256, 0.123, 0.189, 0.148, 0.269, 0.252, 0.256, 0.291, 0.241, 0.232, 0.202, 0.222, 0.182, 0.113, 0.275, 0.298, 0.426, 0.36, 0.578, 0.453, 0.345, 0.26, 0.357, 0.49, 0.393, 0.4, 0.325, 0.204, 0.295, 0.578, 0.308, 0.431, 0.386, 0.359, 0.485, 0.403, 0.315, 0.325, 0.353, 0.374, 0.281, 0.22, 0.267, 0.303, 0.286, 0.202, 0.151, 0.178, 0.105, 0.291, 0.205, 0.338, 0.304, 0.334, 0.238, 0.238, 0.363, 0.351, 0.513, 0.252, 0.343, 0.222, 0.147, 0.236, 0.152, 0.285, 0.26, 0.176, 0.179, 0.223, 0.192, 0.203, 0.119, 0.151, 0.192, 0.154, 0.197, 0.157]\n",
      "--------------------\n",
      "max cos index of each row: total rows: 583\n",
      "[ 5 13 13 12 12  6 13 13 13 15 30 13 13 13 13 30  0 13 13  6 20  0 13  0\n",
      " 13  5 30 13 23 13  6 13 12  6 13 13 10  6  6  2  0  2 10  3  6 27 26 26\n",
      " 15  2 27 14 14 16 14 14 14 14 22 23  3  3 23 23 23 22  4 32 14  1 27 14\n",
      " 17 18  6 11 22 18 27 13 23 23  2 23  1 25 17 27 10 27  0 25 30 32 26  1\n",
      " 26 28 26 26  2 27 26  1 16 12 11 11  2  9 26  6  6  9  9 25 30  2 26 10\n",
      "  7 19  7  1  7  3  1 13 30  6 28  2  9 13  0  3  2 33  2  2  6 25 25 30\n",
      "  0 25  7 25 25 25 30 25 32 32  7  0  7  5  9 17  7  5  7  7  7 10  3  7\n",
      "  9  9 23  3  5  9  7  7 25  9 32  9 13  6 12  6  3 31  3 12 11 10 10 12\n",
      " 12 12 12 22 22 18 22 10 20 11 18 11 22 22 23 23  3 23  6 23 16  6 24  2\n",
      "  0  2  6  0  0  0  2  0 21  3 18 23 27  3  6 21  4  6  6 32  6 13  5  6\n",
      " 30  3 12 29 30 30 31  3 18  0  6 17 17  6 22 16  3 16  3 11 15  3 23  9\n",
      " 30 30 30 30 21 20 30 14 14 17 17 17 18 18 18 18 20 19 19 20 20 18  2 18\n",
      "  9  5 20 20  2 18 18 20 20 12 12 20 20  9  8  0 25 32 24 19 24 24  6  9\n",
      " 10 24 22 22  6 22 22 22 22 22 22 22 22 22  0  0 30  0  0  0  0  0  0  8\n",
      " 22 22 22  5 18 18 18 18 18  1 18 20 10 17  3 26 10 10  0 17 26 30 20 29\n",
      "  3 29 32 30 30  6  4  1 23  3  5  6  6  6  5  3  3  9 32  6  9  9  6 24\n",
      "  9  9 30  5  7  7  9 25 24  0 18 22 29  5 18 18  5 18 17 30 30 30 30 30\n",
      " 13 10 22 30 13 22 22 22 16 22 23 16 14 23 23 22 16 23 25 25  9 32 25 25\n",
      " 25 32 25 32  7  7  6  2  7  0 25 15 25 27 19 24 27  6 25 24 24  6 27  6\n",
      "  9 15  6 12 30  0  0  0 31 31 10 25 31 31 31  0  7 32 28 28  2 13 27 22\n",
      "  6 21 29 32  0  6  6 12  0 11  6  5  0 10 20 16  6 12 11 11 20 26  2  6\n",
      " 15  2 25 27  3 26 23  0 12 10 20 19 12 15 26 12  3 25 25 23 23 10 28 25\n",
      " 25 29 23  3 31 31 29  7 24 23 25 29 23  3  5  0  8  9  7  8  7  6  8  8\n",
      "  7 25  2 31 30  5  5 23  5 30 22  6 14  5  6  6  6 16 20 10  0 28 20 28\n",
      " 30 13 28 22 26  0 32]\n"
     ]
    }
   ],
   "source": [
    "# all_cos_score = all_cos_score.tolist()\n",
    "max_cos = [\"%.2f\" % np.max(all_cos_score, axis = None)]\n",
    "max_score_each_row = [\"%.3f\" % n for n in np.amax(all_cos_score, axis = 1)]\n",
    "max_score_each_row = [float(n) for n in max_score_each_row]\n",
    "max_score_ind = np.argmax(all_cos_score, axis =1)\n",
    "print(len(max_score_each_row) == len(max_score_ind))\n",
    "print('max cos:', max_cos)\n",
    "print('max cos of each row:', 'total rows:', len(max_score_each_row))\n",
    "print(max_score_each_row)\n",
    "print('-'*20)\n",
    "print('max cos index of each row:', 'total rows:', len(max_score_ind))\n",
    "print(max_score_ind)\n",
    "# max_score, max_score_ind"
   ]
  },
  {
   "cell_type": "code",
   "execution_count": 10,
   "metadata": {},
   "outputs": [
    {
     "name": "stdout",
     "output_type": "stream",
     "text": [
      "same len before and after converted: True\n"
     ]
    }
   ],
   "source": [
    "# convert level 2 labels to level 1 labels so that we can evaluate the predictions with the test set label\n",
    "# convert list\n",
    "learning_0 = [0,1,2]\n",
    "general_1 = [3,4,5,6]\n",
    "communication_2 = [7,8,9]\n",
    "mobility_3 = [10,11,12,13]\n",
    "selfcare_4 = [14,15,16,17,18,19,20]\n",
    "domestic_5 = [21,22,23]\n",
    "interpersonal_6 = [24,25]\n",
    "major_7 = [26,27,28]\n",
    "social_8 = [29,30,31,32,33]\n",
    "\n",
    "# convert_list = [learning_0, general_1, communication_2, mobility_3, selfcare_4, domestic_5, interpersonal_6, major_7, social_8]\n",
    "\n",
    "converted_max_score_ind = []\n",
    "for ind in max_score_ind:\n",
    "    if ind in learning_0:\n",
    "        converted_max_score_ind.append(0)\n",
    "    elif ind in general_1:\n",
    "        converted_max_score_ind.append(1)\n",
    "    elif ind in communication_2:\n",
    "        converted_max_score_ind.append(2)\n",
    "    elif ind in mobility_3:\n",
    "        converted_max_score_ind.append(3)\n",
    "    elif ind in selfcare_4:\n",
    "        converted_max_score_ind.append(4)\n",
    "    elif ind in domestic_5:\n",
    "        converted_max_score_ind.append(5)\n",
    "    elif ind in interpersonal_6:\n",
    "        converted_max_score_ind.append(6)\n",
    "    elif ind in major_7:\n",
    "        converted_max_score_ind.append(7)\n",
    "    elif ind in social_8:\n",
    "        converted_max_score_ind.append(8)\n",
    "    else:\n",
    "        print('wrong range')\n",
    "        \n",
    "print('same len before and after converted:', len(max_score_ind)==len(converted_max_score_ind))\n"
   ]
  },
  {
   "cell_type": "code",
   "execution_count": 11,
   "metadata": {},
   "outputs": [
    {
     "name": "stdout",
     "output_type": "stream",
     "text": [
      "threshold list: [0.1, 0.2, 0.3, 0.4, 0.5, 0.6, 0.73]\n",
      "max-macro fscore: 0.396\n",
      "best threshold 0.2\n"
     ]
    }
   ],
   "source": [
    "zip_scor_ind = list(zip(max_score_each_row, converted_max_score_ind))\n",
    "\n",
    "def get_predictions(zip_scor_ind, threshold):\n",
    "    \"\"\"\"\"\"\n",
    "    # threshold = 0.10\n",
    "    predictions = []\n",
    "    for s, i in zip_scor_ind:\n",
    "        if s >= threshold:\n",
    "            predictions.append(i)\n",
    "        elif s < threshold:\n",
    "            predictions.append(9) # index 9 means 'none'\n",
    "        else:\n",
    "            print('error comparison')\n",
    "    return predictions\n",
    "\n",
    "def get_best_fscore(thresholdlist, zip_scor_ind, gold):\n",
    "    \"\"\"\"\"\"\n",
    "    list_fscore = []\n",
    "    for threshold in thresholdlist:\n",
    "        predictions = get_predictions(zip_scor_ind, threshold)\n",
    "        list_fscore.append(f1_score(gold, predictions,average='macro'))\n",
    "    max_fsc = max(list_fscore)\n",
    "    best_thres = thresholdlist[list_fscore.index(max(list_fscore))]\n",
    "    return(max_fsc, best_thres)\n",
    "\n",
    "# predictions = get_predictions(zip_scor_ind, threshold=0.1)\n",
    "thresholdlist = [0.1, 0.2, 0.3,0.4, 0.5,0.6,0.73]\n",
    "max_fsc, best_thres = get_best_fscore(thresholdlist, zip_scor_ind, gold)\n",
    "print('threshold list:',thresholdlist)\n",
    "print('max-macro fscore:', '%.3f' % max_fsc)\n",
    "print('best threshold',best_thres)\n"
   ]
  },
  {
   "cell_type": "code",
   "execution_count": 12,
   "metadata": {},
   "outputs": [
    {
     "name": "stdout",
     "output_type": "stream",
     "text": [
      "stsb-mpnet-base-v2\n",
      "              precision    recall  f1-score   support\n",
      "\n",
      "           0       0.16      0.33      0.21        27\n",
      "           1       0.16      0.42      0.24        33\n",
      "           2       0.32      0.78      0.45        18\n",
      "           3       0.40      0.53      0.46        45\n",
      "           4       0.36      0.84      0.50        31\n",
      "           5       0.63      0.51      0.56        77\n",
      "           6       0.79      0.40      0.53        67\n",
      "           7       0.42      0.29      0.34        35\n",
      "           8       0.36      0.33      0.35        57\n",
      "           9       0.51      0.23      0.32       193\n",
      "\n",
      "    accuracy                           0.39       583\n",
      "   macro avg       0.41      0.47      0.40       583\n",
      "weighted avg       0.48      0.39      0.39       583\n",
      "\n"
     ]
    }
   ],
   "source": [
    "# get classification report \n",
    "# model_name = './output/tsdae-bert-base-uncased-icf-model'\n",
    "print(model_name)\n",
    "predictions = get_predictions(zip_scor_ind, best_thres)\n",
    "confusion = confusion_matrix(gold, predictions)\n",
    "report = classification_report(gold, predictions)\n",
    "\n",
    "print(report)"
   ]
  },
  {
   "cell_type": "code",
   "execution_count": 13,
   "metadata": {},
   "outputs": [
    {
     "name": "stdout",
     "output_type": "stream",
     "text": [
      "0 learning \n",
      "1 general \n",
      "2 communication\n",
      "3 mobility\n",
      "4 selfcare \n",
      "5 domestic \n",
      "6 interpersonal \n",
      "7 major\n",
      "8 social\n",
      "9 none \n"
     ]
    }
   ],
   "source": [
    "for i, label in enumerate(labels_level1):\n",
    "    print(i,label)"
   ]
  },
  {
   "cell_type": "code",
   "execution_count": 14,
   "metadata": {},
   "outputs": [
    {
     "data": {
      "image/png": "[encoded data removed]",
      "text/plain": [
       "<Figure size 432x288 with 2 Axes>"
      ]
     },
     "metadata": {
      "needs_background": "light"
     },
     "output_type": "display_data"
    }
   ],
   "source": [
    "# plot confusion matrix \n",
    "disp = ConfusionMatrixDisplay(confusion_matrix=confusion,display_labels=checklabel)\n",
    "disp.plot()\n",
    "plt.show()"
   ]
  },
  {
   "cell_type": "code",
   "execution_count": 15,
   "metadata": {},
   "outputs": [],
   "source": [
    "model = model_name.split('/')[-1]\n",
    "df_predictions = pd.DataFrame({\n",
    "    'utterances':sentence,\n",
    "    'predictions':predictions\n",
    "    })\n",
    "df_predictions.to_csv(f'../datasets/predictions/predictions_{model}_level_2.tsv', sep='\\t',index=None)"
   ]
  }
 ],
 "metadata": {
  "kernelspec": {
   "display_name": "base",
   "language": "python",
   "name": "python3"
  },
  "language_info": {
   "codemirror_mode": {
    "name": "ipython",
    "version": 3
   },
   "file_extension": ".py",
   "mimetype": "text/x-python",
   "name": "python",
   "nbconvert_exporter": "python",
   "pygments_lexer": "ipython3",
   "version": "3.8.8"
  },
  "orig_nbformat": 4
 },
 "nbformat": 4,
 "nbformat_minor": 2
}
