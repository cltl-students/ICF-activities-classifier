{
 "cells": [
  {
   "cell_type": "code",
   "execution_count": 1,
   "metadata": {},
   "outputs": [],
   "source": [
    "import pandas as pd\n",
    "import numpy as np\n",
    "from sklearn.metrics.pairwise import cosine_similarity\n",
    "from sentence_transformers import SentenceTransformer\n",
    "# for reprot and visualization and find the best threshold\n",
    "from sklearn.metrics import confusion_matrix\n",
    "from sklearn.metrics import classification_report\n",
    "from sklearn.metrics import f1_score\n",
    "import matplotlib.pyplot as plt\n",
    "from sklearn.metrics import confusion_matrix, ConfusionMatrixDisplay\n"
   ]
  },
  {
   "cell_type": "code",
   "execution_count": 2,
   "metadata": {},
   "outputs": [
    {
     "name": "stdout",
     "output_type": "stream",
     "text": [
      "num of pretrain sentences: 320\n"
     ]
    }
   ],
   "source": [
    "with open (\"../datasets/ICF/icf_level123_def.txt\",'r',encoding='utf-8') as infile:\n",
    "    raw_level123_def = infile.read()\n",
    "\n",
    "level123_def = raw_level123_def.split('.')\n",
    "print('num of pretrain sentences:', len(level123_def))"
   ]
  },
  {
   "cell_type": "code",
   "execution_count": 3,
   "metadata": {},
   "outputs": [],
   "source": [
    "df_test = pd.read_csv('../datasets/test set/full_test_sep.tsv', sep='\\t')\n",
    "df_icf = pd.read_csv('../datasets/ICF/ICF_def_label.tsv', sep='\\t')\n",
    "df_icf_level2 = pd.read_csv('../datasets/ICF/ICF_level2_def_label.tsv', sep='\\t')"
   ]
  },
  {
   "cell_type": "code",
   "execution_count": 4,
   "metadata": {},
   "outputs": [
    {
     "name": "stdout",
     "output_type": "stream",
     "text": [
      "clean test set labels\n"
     ]
    }
   ],
   "source": [
    "icf_def_level2 = df_icf_level2['def-level2'].tolist() # exclude the none label def\n",
    "labels_level2 = df_icf_level2['label-level2']\n",
    "labels_level1 = df_icf['label'].tolist()\n",
    "sentence = df_test['utterances'].tolist()\n",
    "\n",
    "# transform label to num\n",
    "df_test.loc[df_test['gold'] == 'learning', 'gold'] = 0\n",
    "df_test.loc[df_test['gold'] == 'general', 'gold'] = 1\n",
    "df_test.loc[df_test['gold'] == 'communication', 'gold'] = 2\n",
    "df_test.loc[df_test['gold'] == 'mobility', 'gold'] = 3\n",
    "df_test.loc[df_test['gold'] == 'selfcare', 'gold'] = 4\n",
    "df_test.loc[df_test['gold'] == 'domestic', 'gold'] = 5\n",
    "df_test.loc[df_test['gold'] == 'interpersonal', 'gold'] = 6\n",
    "df_test.loc[df_test['gold'] == 'major', 'gold'] = 7\n",
    "df_test.loc[df_test['gold'] == 'social', 'gold'] = 8\n",
    "df_test.loc[df_test['gold'] == 'none', 'gold'] = 9\n",
    "\n",
    "checklabel = [0,1,2,3,4,5,6,7,8,9]\n",
    "gold = df_test['gold'].tolist()\n",
    "for n,i in enumerate(gold):\n",
    "    if i not in checklabel:\n",
    "        if i != '-'*20:\n",
    "            print(i,n)\n",
    "print('clean test set labels')"
   ]
  },
  {
   "cell_type": "code",
   "execution_count": 5,
   "metadata": {},
   "outputs": [
    {
     "name": "stdout",
     "output_type": "stream",
     "text": [
      "with sep processing\n",
      "with sep processing\n"
     ]
    }
   ],
   "source": [
    "if '-'*20 in sentence:\n",
    "    print('with sep processing')\n",
    "    sentence = [ i for i in sentence if i != '-'*20]\n",
    "\n",
    "if '-'*20 in gold:\n",
    "    print('with sep processing')\n",
    "    gold = [ i for i in gold if i != '-'*20]"
   ]
  },
  {
   "cell_type": "code",
   "execution_count": 6,
   "metadata": {},
   "outputs": [
    {
     "name": "stdout",
     "output_type": "stream",
     "text": [
      "num of def: 34\n",
      "num of level1 labels: 10\n",
      "num of level2 labels: 34\n",
      "num of test sentences: 583\n"
     ]
    }
   ],
   "source": [
    "print('num of def:', len(icf_def_level2))\n",
    "print('num of level1 labels:', len(labels_level1))\n",
    "print('num of level2 labels:', len(labels_level2))\n",
    "print('num of test sentences:',len(sentence))"
   ]
  },
  {
   "cell_type": "code",
   "execution_count": 7,
   "metadata": {},
   "outputs": [
    {
     "name": "stderr",
     "output_type": "stream",
     "text": [
      "No sentence-transformers model found with name /home/alice/.cache/torch/sentence_transformers/bert-base-uncased. Creating a new one with MEAN pooling.\n",
      "Some weights of the model checkpoint at /home/alice/.cache/torch/sentence_transformers/bert-base-uncased were not used when initializing BertModel: ['cls.predictions.decoder.weight', 'cls.seq_relationship.bias', 'cls.predictions.transform.LayerNorm.weight', 'cls.predictions.transform.dense.weight', 'cls.predictions.transform.dense.bias', 'cls.predictions.bias', 'cls.seq_relationship.weight', 'cls.predictions.transform.LayerNorm.bias']\n",
      "- This IS expected if you are initializing BertModel from the checkpoint of a model trained on another task or with another architecture (e.g. initializing a BertForSequenceClassification model from a BertForPreTraining model).\n",
      "- This IS NOT expected if you are initializing BertModel from the checkpoint of a model that you expect to be exactly identical (initializing a BertForSequenceClassification model from a BertForSequenceClassification model).\n"
     ]
    }
   ],
   "source": [
    "model_name = 'bert-base-uncased'\n",
    "model_trained = SentenceTransformer('bert-base-uncased')"
   ]
  },
  {
   "cell_type": "code",
   "execution_count": 8,
   "metadata": {},
   "outputs": [
    {
     "name": "stdout",
     "output_type": "stream",
     "text": [
      "score dimension: (583, 34)\n"
     ]
    }
   ],
   "source": [
    "sentence_emb_1 = model_trained.encode(sentence)\n",
    "sentence_emb_2 = model_trained.encode(icf_def_level2)\n",
    "all_cos_score = cosine_similarity(sentence_emb_1, sentence_emb_2)\n",
    "print('score dimension:', all_cos_score.shape)"
   ]
  },
  {
   "cell_type": "code",
   "execution_count": 9,
   "metadata": {},
   "outputs": [
    {
     "name": "stdout",
     "output_type": "stream",
     "text": [
      "True\n",
      "max cos: ['0.78']\n",
      "max cos of each row: total rows: 583\n",
      "[0.583, 0.589, 0.584, 0.626, 0.657, 0.605, 0.643, 0.635, 0.616, 0.578, 0.596, 0.621, 0.636, 0.545, 0.588, 0.71, 0.676, 0.663, 0.672, 0.738, 0.663, 0.682, 0.668, 0.538, 0.609, 0.595, 0.599, 0.594, 0.55, 0.586, 0.657, 0.686, 0.597, 0.655, 0.634, 0.66, 0.659, 0.664, 0.707, 0.65, 0.601, 0.589, 0.587, 0.545, 0.656, 0.573, 0.631, 0.582, 0.554, 0.593, 0.64, 0.585, 0.661, 0.606, 0.626, 0.649, 0.72, 0.6, 0.682, 0.644, 0.645, 0.664, 0.698, 0.696, 0.714, 0.746, 0.644, 0.422, 0.624, 0.618, 0.622, 0.631, 0.405, 0.597, 0.523, 0.578, 0.619, 0.631, 0.655, 0.533, 0.628, 0.612, 0.562, 0.479, 0.522, 0.605, 0.536, 0.494, 0.548, 0.555, 0.566, 0.639, 0.631, 0.569, 0.662, 0.727, 0.579, 0.598, 0.623, 0.637, 0.576, 0.562, 0.568, 0.642, 0.613, 0.629, 0.637, 0.759, 0.564, 0.608, 0.582, 0.646, 0.582, 0.646, 0.493, 0.704, 0.519, 0.568, 0.618, 0.548, 0.59, 0.567, 0.642, 0.652, 0.711, 0.615, 0.629, 0.578, 0.673, 0.659, 0.616, 0.622, 0.642, 0.651, 0.428, 0.661, 0.707, 0.697, 0.564, 0.591, 0.632, 0.663, 0.609, 0.572, 0.553, 0.615, 0.52, 0.548, 0.59, 0.553, 0.621, 0.593, 0.477, 0.422, 0.565, 0.528, 0.59, 0.614, 0.629, 0.568, 0.588, 0.508, 0.58, 0.617, 0.553, 0.558, 0.626, 0.697, 0.686, 0.685, 0.548, 0.57, 0.449, 0.623, 0.694, 0.666, 0.584, 0.685, 0.607, 0.582, 0.602, 0.6, 0.635, 0.657, 0.6, 0.643, 0.698, 0.6, 0.656, 0.599, 0.673, 0.599, 0.629, 0.648, 0.717, 0.62, 0.58, 0.593, 0.602, 0.546, 0.639, 0.716, 0.648, 0.713, 0.712, 0.627, 0.675, 0.563, 0.712, 0.771, 0.599, 0.559, 0.648, 0.516, 0.448, 0.601, 0.618, 0.605, 0.586, 0.618, 0.571, 0.568, 0.6, 0.587, 0.598, 0.573, 0.468, 0.376, 0.59, 0.599, 0.576, 0.568, 0.635, 0.58, 0.689, 0.603, 0.714, 0.669, 0.623, 0.56, 0.53, 0.677, 0.676, 0.67, 0.674, 0.607, 0.624, 0.519, 0.538, 0.382, 0.655, 0.656, 0.709, 0.578, 0.636, 0.632, 0.628, 0.686, 0.7, 0.616, 0.532, 0.659, 0.514, 0.527, 0.632, 0.633, 0.583, 0.64, 0.49, 0.583, 0.613, 0.593, 0.653, 0.584, 0.57, 0.623, 0.612, 0.662, 0.692, 0.65, 0.675, 0.515, 0.653, 0.628, 0.67, 0.658, 0.557, 0.637, 0.561, 0.692, 0.729, 0.671, 0.551, 0.646, 0.478, 0.668, 0.687, 0.583, 0.73, 0.647, 0.714, 0.608, 0.638, 0.686, 0.61, 0.575, 0.758, 0.642, 0.522, 0.691, 0.546, 0.595, 0.664, 0.688, 0.728, 0.611, 0.424, 0.66, 0.596, 0.686, 0.679, 0.724, 0.685, 0.67, 0.69, 0.645, 0.573, 0.545, 0.602, 0.595, 0.592, 0.566, 0.536, 0.573, 0.486, 0.542, 0.66, 0.604, 0.667, 0.603, 0.588, 0.596, 0.597, 0.601, 0.675, 0.583, 0.533, 0.621, 0.543, 0.52, 0.609, 0.656, 0.606, 0.54, 0.652, 0.575, 0.613, 0.568, 0.703, 0.656, 0.642, 0.683, 0.591, 0.621, 0.661, 0.598, 0.652, 0.616, 0.538, 0.64, 0.544, 0.579, 0.64, 0.619, 0.627, 0.667, 0.651, 0.57, 0.552, 0.653, 0.574, 0.62, 0.62, 0.613, 0.576, 0.559, 0.545, 0.659, 0.517, 0.588, 0.639, 0.618, 0.614, 0.619, 0.554, 0.599, 0.567, 0.628, 0.603, 0.638, 0.632, 0.544, 0.636, 0.606, 0.581, 0.551, 0.486, 0.582, 0.562, 0.514, 0.627, 0.631, 0.59, 0.617, 0.6, 0.611, 0.602, 0.612, 0.634, 0.638, 0.661, 0.666, 0.749, 0.703, 0.725, 0.738, 0.611, 0.58, 0.605, 0.587, 0.679, 0.624, 0.583, 0.495, 0.69, 0.463, 0.631, 0.573, 0.654, 0.513, 0.695, 0.705, 0.535, 0.658, 0.63, 0.643, 0.587, 0.736, 0.599, 0.726, 0.691, 0.668, 0.655, 0.61, 0.571, 0.519, 0.421, 0.587, 0.592, 0.589, 0.658, 0.635, 0.436, 0.611, 0.584, 0.588, 0.554, 0.565, 0.608, 0.667, 0.594, 0.55, 0.683, 0.59, 0.598, 0.591, 0.639, 0.585, 0.672, 0.663, 0.593, 0.61, 0.624, 0.592, 0.509, 0.516, 0.596, 0.694, 0.546, 0.647, 0.652, 0.53, 0.6, 0.331, 0.591, 0.628, 0.492, 0.741, 0.756, 0.609, 0.704, 0.554, 0.59, 0.539, 0.585, 0.571, 0.509, 0.549, 0.585, 0.62, 0.508, 0.548, 0.661, 0.699, 0.635, 0.634, 0.504, 0.579, 0.341, 0.702, 0.546, 0.683, 0.552, 0.604, 0.658, 0.618, 0.668, 0.568, 0.783, 0.671, 0.74, 0.611, 0.58, 0.627, 0.717, 0.47, 0.599, 0.706, 0.735, 0.696, 0.624, 0.516, 0.735, 0.506, 0.561, 0.589, 0.64, 0.627, 0.65, 0.598, 0.611, 0.56, 0.613, 0.637, 0.613, 0.547, 0.552, 0.607, 0.615, 0.655, 0.651, 0.629, 0.581, 0.6, 0.648, 0.615, 0.623, 0.423, 0.652, 0.608, 0.698, 0.71, 0.644, 0.567, 0.548, 0.671, 0.598, 0.58, 0.574, 0.623, 0.638, 0.535, 0.558]\n",
      "--------------------\n",
      "max cos index of each row: total rows: 583\n",
      "[13 13 19 14 12 13 13 13 12 13 13 13 13 13 12 13 13 12 13 13 13 13 13 18\n",
      " 13  2 13 13 13 12 12 13 12 12 13 13 12 13 12 12 15 22 12 13 29 12  2 21\n",
      " 26 13 15 14 14 15 14 14 15 14 22 13  5 22 22 22 23 23  5 24 15 12 12  7\n",
      " 22 22 22 15 23 13 10  3 15 22  2 32 25 21 12 21 12 21  0 25 25 32 13 13\n",
      " 13 22  2 29 10  8  2  2 15 10 12 12 24  2 15  6 15 15 10 18 13 32  8 15\n",
      " 10 19  8  1  1 10  1 15 13  6 28  2 13 12 30 12  2  2 12  2  6  6 25 13\n",
      " 13 25 32 25 25 21  6 13 25  2  7 10  8 18 13  8  8 25  8  7  7 12 12  8\n",
      " 32 13 29 12 25 15  8 12 25  2  2 13 12 18 15  6 15 10 10 13 12 14 15 12\n",
      " 10 12 13 22 15 22 21 10 10 10 13 13 22 22 22 29 22  6 22 21 12 25 22 13\n",
      " 13 22 12 15 13 14 22  6 22  5 14 22 22 27 10 18 22 12  6 30  6 13  5 15\n",
      " 13 13 12 12 13 14 30 12 14 22 22 15 15 12 28 22 22 15  5 13 15 11 13 22\n",
      " 12 18 20 30 14 12 12 22 14 18 14 17 12 13 13 13 13 10 19  5 20 18 23 15\n",
      "  6  5 10 15 21 18 21 10 13 30 13 15 20  6 12 24 25 24  6 32 13 18 13 32\n",
      " 10  6 22 22 21 18 22 15 22 22 18 22 22 15 13 13 13 13 22 13 13 12 32 21\n",
      " 22 22 22 22 22 18 18 12 22 12 13 15 12 12 12 11 12 10  6 24  1 13 13 25\n",
      " 29 29  2 24 13  6 10 32 29 18 32  6  8 22  5  5  5 12 32 18 25 25 12 32\n",
      " 25 15 25  5 12  7 18 24 24 24 22  5  6 12 12  5 15 14 18 15 19 12 15 15\n",
      " 12 32 13 19 13 22 32 25 15 12 15 22 22 23 23 22 14 15 29 30 12 15 25 25\n",
      " 25 32 25 32  6  8 12 10 12  6 15  6 25 13 25 29 21 25 13 24 24 12 14 15\n",
      " 21 15 12 14  3 13  0 15 29 12 10 27 31 31 29 15 31  2 22 10 13 13 13 22\n",
      " 28 28 22 13 10  6 12 12  0 12  6 12 10 22 10 14 25 15  6 15  6 22  5 14\n",
      " 15 18 32 13 27 20  2 13 12 11 15 10 22 10 10 12 12 22 25 23 13 12 28 13\n",
      " 29 29 12 32 13 12 29 13 23 29 32 29 29 22 13  0  6  8  8  8  8  6  8  8\n",
      "  8 15 20 15 22  5  6 27  5 14 15 14 12 18  6  0 12 16 15 12 12 28 25 28\n",
      " 21 28 32 12 32 32 32]\n"
     ]
    }
   ],
   "source": [
    "# all_cos_score = all_cos_score.tolist()\n",
    "max_cos = [\"%.2f\" % np.max(all_cos_score, axis = None)]\n",
    "max_score_each_row = [\"%.3f\" % n for n in np.amax(all_cos_score, axis = 1)]\n",
    "max_score_each_row = [float(n) for n in max_score_each_row]\n",
    "max_score_ind = np.argmax(all_cos_score, axis =1)\n",
    "print(len(max_score_each_row) == len(max_score_ind))\n",
    "print('max cos:', max_cos)\n",
    "print('max cos of each row:', 'total rows:', len(max_score_each_row))\n",
    "print(max_score_each_row)\n",
    "print('-'*20)\n",
    "print('max cos index of each row:', 'total rows:', len(max_score_ind))\n",
    "print(max_score_ind)\n",
    "# max_score, max_score_ind"
   ]
  },
  {
   "cell_type": "code",
   "execution_count": 10,
   "metadata": {},
   "outputs": [
    {
     "name": "stdout",
     "output_type": "stream",
     "text": [
      "same len before and after converted: True\n"
     ]
    }
   ],
   "source": [
    "# convert level 2 labels to level 1 labels so that we can evaluate the predictions with the test set label\n",
    "# convert list\n",
    "learning_0 = [0,1,2]\n",
    "general_1 = [3,4,5,6]\n",
    "communication_2 = [7,8,9]\n",
    "mobility_3 = [10,11,12,13]\n",
    "selfcare_4 = [14,15,16,17,18,19,20]\n",
    "domestic_5 = [21,22,23]\n",
    "interpersonal_6 = [24,25]\n",
    "major_7 = [26,27,28]\n",
    "social_8 = [29,30,31,32,33]\n",
    "\n",
    "# convert_list = [learning_0, general_1, communication_2, mobility_3, selfcare_4, domestic_5, interpersonal_6, major_7, social_8]\n",
    "\n",
    "converted_max_score_ind = []\n",
    "for ind in max_score_ind:\n",
    "    if ind in learning_0:\n",
    "        converted_max_score_ind.append(0)\n",
    "    elif ind in general_1:\n",
    "        converted_max_score_ind.append(1)\n",
    "    elif ind in communication_2:\n",
    "        converted_max_score_ind.append(2)\n",
    "    elif ind in mobility_3:\n",
    "        converted_max_score_ind.append(3)\n",
    "    elif ind in selfcare_4:\n",
    "        converted_max_score_ind.append(4)\n",
    "    elif ind in domestic_5:\n",
    "        converted_max_score_ind.append(5)\n",
    "    elif ind in interpersonal_6:\n",
    "        converted_max_score_ind.append(6)\n",
    "    elif ind in major_7:\n",
    "        converted_max_score_ind.append(7)\n",
    "    elif ind in social_8:\n",
    "        converted_max_score_ind.append(8)\n",
    "    else:\n",
    "        print('wrong range')\n",
    "        \n",
    "print('same len before and after converted:', len(max_score_ind)==len(converted_max_score_ind))\n"
   ]
  },
  {
   "cell_type": "code",
   "execution_count": 11,
   "metadata": {},
   "outputs": [
    {
     "name": "stdout",
     "output_type": "stream",
     "text": [
      "threshold list: [0.1, 0.2, 0.25, 0.3, 0.4, 0.5, 0.53, 0.6, 0.73]\n",
      "max-macro fscore: 0.329\n",
      "best threshold 0.53\n"
     ]
    }
   ],
   "source": [
    "zip_scor_ind = list(zip(max_score_each_row, converted_max_score_ind))\n",
    "\n",
    "def get_predictions(zip_scor_ind, threshold):\n",
    "    \"\"\"\"\"\"\n",
    "    # threshold = 0.10\n",
    "    predictions = []\n",
    "    for s, i in zip_scor_ind:\n",
    "        if s >= threshold:\n",
    "            predictions.append(i)\n",
    "        elif s < threshold:\n",
    "            predictions.append(9) # index 9 means 'none'\n",
    "        else:\n",
    "            print('error comparison')\n",
    "    return predictions\n",
    "\n",
    "def get_best_fscore(thresholdlist, zip_scor_ind, gold):\n",
    "    \"\"\"\"\"\"\n",
    "    list_fscore = []\n",
    "    for threshold in thresholdlist:\n",
    "        predictions = get_predictions(zip_scor_ind, threshold)\n",
    "        list_fscore.append(f1_score(gold, predictions,average='macro'))\n",
    "    max_fsc = max(list_fscore)\n",
    "    best_thres = thresholdlist[list_fscore.index(max(list_fscore))]\n",
    "    return(max_fsc, best_thres)\n",
    "\n",
    "# predictions = get_predictions(zip_scor_ind, threshold=0.1)\n",
    "thresholdlist = [0.1, 0.2, 0.25, 0.3,0.4, 0.5,0.53,0.6,0.73]\n",
    "max_fsc, best_thres = get_best_fscore(thresholdlist, zip_scor_ind, gold)\n",
    "print('threshold list:',thresholdlist)\n",
    "print('max-macro fscore:', '%.3f' % max_fsc)\n",
    "print('best threshold',best_thres)\n"
   ]
  },
  {
   "cell_type": "code",
   "execution_count": 12,
   "metadata": {},
   "outputs": [
    {
     "name": "stdout",
     "output_type": "stream",
     "text": [
      "bert-base-uncased\n",
      "              precision    recall  f1-score   support\n",
      "\n",
      "           0       0.38      0.30      0.33        27\n",
      "           1       0.15      0.21      0.18        33\n",
      "           2       0.35      0.44      0.39        18\n",
      "           3       0.19      0.80      0.31        45\n",
      "           4       0.14      0.45      0.21        31\n",
      "           5       0.57      0.51      0.54        77\n",
      "           6       0.76      0.37      0.50        67\n",
      "           7       0.38      0.14      0.21        35\n",
      "           8       0.34      0.25      0.29        57\n",
      "           9       0.80      0.21      0.34       193\n",
      "\n",
      "    accuracy                           0.34       583\n",
      "   macro avg       0.41      0.37      0.33       583\n",
      "weighted avg       0.54      0.34      0.35       583\n",
      "\n"
     ]
    }
   ],
   "source": [
    "# get classification report \n",
    "# model_name = './output/tsdae-bert-base-uncased-icf-model'\n",
    "print(model_name)\n",
    "predictions = get_predictions(zip_scor_ind, best_thres)\n",
    "confusion = confusion_matrix(gold, predictions)\n",
    "report = classification_report(gold, predictions)\n",
    "\n",
    "print(report)"
   ]
  },
  {
   "cell_type": "code",
   "execution_count": 13,
   "metadata": {},
   "outputs": [
    {
     "name": "stdout",
     "output_type": "stream",
     "text": [
      "0 learning \n",
      "1 general \n",
      "2 communication\n",
      "3 mobility\n",
      "4 selfcare \n",
      "5 domestic \n",
      "6 interpersonal \n",
      "7 major\n",
      "8 social\n",
      "9 none \n"
     ]
    }
   ],
   "source": [
    "for i, label in enumerate(labels_level1):\n",
    "    print(i,label)"
   ]
  },
  {
   "cell_type": "code",
   "execution_count": 14,
   "metadata": {},
   "outputs": [
    {
     "data": {
      "image/png": "[encoded data removed]",
      "text/plain": [
       "<Figure size 432x288 with 2 Axes>"
      ]
     },
     "metadata": {
      "needs_background": "light"
     },
     "output_type": "display_data"
    }
   ],
   "source": [
    "# plot confusion matrix \n",
    "disp = ConfusionMatrixDisplay(confusion_matrix=confusion,display_labels=checklabel)\n",
    "disp.plot()\n",
    "plt.show()"
   ]
  },
  {
   "cell_type": "code",
   "execution_count": 15,
   "metadata": {},
   "outputs": [],
   "source": [
    "model = model_name.split('/')[-1]\n",
    "df_predictions = pd.DataFrame({\n",
    "    'utterances':sentence,\n",
    "    'predictions':predictions\n",
    "    })\n",
    "df_predictions.to_csv(f'../datasets/predictions/predictions_{model}_level_2.tsv', sep='\\t',index=None)"
   ]
  }
 ],
 "metadata": {
  "kernelspec": {
   "display_name": "base",
   "language": "python",
   "name": "python3"
  },
  "language_info": {
   "codemirror_mode": {
    "name": "ipython",
    "version": 3
   },
   "file_extension": ".py",
   "mimetype": "text/x-python",
   "name": "python",
   "nbconvert_exporter": "python",
   "pygments_lexer": "ipython3",
   "version": "3.8.8"
  },
  "orig_nbformat": 4
 },
 "nbformat": 4,
 "nbformat_minor": 2
}
