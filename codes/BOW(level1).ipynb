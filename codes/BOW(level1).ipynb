{
 "cells": [
  {
   "cell_type": "code",
   "execution_count": 1,
   "metadata": {},
   "outputs": [],
   "source": [
    "import pandas as pd\n",
    "import numpy as np\n",
    "from nltk import word_tokenize\n",
    "from nltk.corpus import stopwords\n",
    "from nltk.stem import WordNetLemmatizer\n",
    "from sklearn.feature_extraction.text import TfidfVectorizer\n",
    "from sklearn.metrics.pairwise import cosine_similarity\n",
    "from sklearn.metrics import confusion_matrix\n",
    "from sklearn.metrics import classification_report\n",
    "from sklearn.metrics import f1_score\n",
    "import matplotlib.pyplot as plt\n",
    "from sklearn.metrics import confusion_matrix, ConfusionMatrixDisplay\n",
    "import nltk\n",
    "from nltk.tokenize import RegexpTokenizer\n"
   ]
  },
  {
   "cell_type": "code",
   "execution_count": 2,
   "metadata": {},
   "outputs": [],
   "source": [
    "df_test = pd.read_csv('../datasets/test set/full_test_sep.tsv', sep='\\t')\n",
    "df_icf = pd.read_csv('../datasets/ICF/ICF_def_label.tsv', sep='\\t')"
   ]
  },
  {
   "cell_type": "code",
   "execution_count": 3,
   "metadata": {},
   "outputs": [
    {
     "name": "stdout",
     "output_type": "stream",
     "text": [
      "clean labels\n"
     ]
    }
   ],
   "source": [
    "icf_def = df_icf['def'][:-1].tolist() # exclude the none label def\n",
    "labels = df_icf['label'].tolist()\n",
    "sentence = df_test['utterances'].tolist()\n",
    "\n",
    "# transform label to num\n",
    "df_test.loc[df_test['gold'] == 'learning', 'gold'] = 0\n",
    "df_test.loc[df_test['gold'] == 'general', 'gold'] = 1\n",
    "df_test.loc[df_test['gold'] == 'communication', 'gold'] = 2\n",
    "df_test.loc[df_test['gold'] == 'mobility', 'gold'] = 3\n",
    "df_test.loc[df_test['gold'] == 'selfcare', 'gold'] = 4\n",
    "df_test.loc[df_test['gold'] == 'domestic', 'gold'] = 5\n",
    "df_test.loc[df_test['gold'] == 'interpersonal', 'gold'] = 6\n",
    "df_test.loc[df_test['gold'] == 'major', 'gold'] = 7\n",
    "df_test.loc[df_test['gold'] == 'social', 'gold'] = 8\n",
    "df_test.loc[df_test['gold'] == 'none', 'gold'] = 9\n",
    "\n",
    "\n",
    "checklabel = [0,1,2,3,4,5,6,7,8,9]\n",
    "gold = df_test['gold'].tolist()\n",
    "for n,i in enumerate(gold):\n",
    "    if i not in checklabel:\n",
    "        if i != '-'*20:\n",
    "            print(i,n)\n",
    "print('clean labels')\n",
    "\n",
    "# gold\n"
   ]
  },
  {
   "cell_type": "code",
   "execution_count": 4,
   "metadata": {},
   "outputs": [
    {
     "name": "stdout",
     "output_type": "stream",
     "text": [
      "with sep processing\n",
      "with sep processing\n"
     ]
    }
   ],
   "source": [
    "if '-'*20 in sentence:\n",
    "    print('with sep processing')\n",
    "    sentence = [ i for i in sentence if i != '-'*20]\n",
    "\n",
    "if '-'*20 in gold:\n",
    "    print('with sep processing')\n",
    "    gold = [ i for i in gold if i != '-'*20]"
   ]
  },
  {
   "cell_type": "code",
   "execution_count": 5,
   "metadata": {},
   "outputs": [
    {
     "data": {
      "text/plain": [
       "['learning and applying knowledge is about learning, applying the knowledge that is learned, thinking, solving problems, and making decisions. ',\n",
       " 'general tasks and demands is about general aspects of carrying out single or multiple tasks, organizing routines and handling stress. These items can be used in conjunction with more specific tasks or actions to identify the underlying features of the execution of tasks under different circumstances.',\n",
       " 'communication is about general and specific features of communicating by language, signs and symbols, including receiving and producing messages, carrying on conversations, and using communication devices and techniques. ',\n",
       " 'mobility is about moving by changing body position or location or by transferring from one place to another, by carrying, moving or manipulating objects, by walking, running or climbing, and by using various forms of transportation. ',\n",
       " \"self-care is about caring for oneself, washing and drying oneself, caring for one's body and body parts, dressing, eating and drinking, and looking after one's health.\",\n",
       " \"domestic life is about carrying out domestic and everyday actions and tasks. Areas of domestic life include caring for one's belongings and space, acquiring food, clothing and other necessities, household cleaning and repairing, caring for personal and other household objects, and assisting others. \",\n",
       " 'interpersonal interactions and relationships is about carrying out the actions and tasks required for basic and complex interactions with people (strangers, friends, relatives, family members and lovers) in a contextually and socially appropriate manner. ',\n",
       " 'major life areas is about carrying out the tasks and actions required to engage in education, work and employment and to conduct economic transactions.',\n",
       " 'community, social and civic life is about the actions and tasks required to engage in organized social life outside the family, in community, social and civic areas of life.']"
      ]
     },
     "execution_count": 5,
     "metadata": {},
     "output_type": "execute_result"
    }
   ],
   "source": [
    "icf_def"
   ]
  },
  {
   "cell_type": "code",
   "execution_count": 6,
   "metadata": {},
   "outputs": [
    {
     "name": "stdout",
     "output_type": "stream",
     "text": [
      "num of def: 9\n",
      "num of labels: 10\n",
      "num of test sentences: 583\n"
     ]
    }
   ],
   "source": [
    "print('num of def:', len(icf_def))\n",
    "print('num of labels:', len(labels))\n",
    "print('num of test sentences:',len(sentence))"
   ]
  },
  {
   "attachments": {},
   "cell_type": "markdown",
   "metadata": {},
   "source": [
    "#### preprocess\n",
    "- lower casing\n",
    "- remove punctuation\n",
    "- lemmatization\n",
    "- remove stopwords\n",
    "- tf-idf"
   ]
  },
  {
   "cell_type": "code",
   "execution_count": 7,
   "metadata": {},
   "outputs": [],
   "source": [
    "with open (\"../datasets/ICF/icf_level123_def.txt\",'r',encoding='utf-8') as infile:\n",
    "    raw_level123_def = infile.read()"
   ]
  },
  {
   "cell_type": "code",
   "execution_count": 8,
   "metadata": {},
   "outputs": [
    {
     "name": "stdout",
     "output_type": "stream",
     "text": [
      "num of train sentences: 320\n"
     ]
    }
   ],
   "source": [
    "level123_def = raw_level123_def.split('.')\n",
    "print('num of train sentences:', len(level123_def))"
   ]
  },
  {
   "cell_type": "code",
   "execution_count": 9,
   "metadata": {},
   "outputs": [],
   "source": [
    "def preprocess_text(list_of_sentence):\n",
    "    \"\"\"\n",
    "    \"\"\"\n",
    "    tokenizer = RegexpTokenizer(r'\\w+')\n",
    "    lemmatizer = WordNetLemmatizer()\n",
    "    stop_words = [w.lower() for w in stopwords.words('english')]\n",
    "    processed = []\n",
    "    for s in list_of_sentence:\n",
    "        s = s.lower()\n",
    "        clean_tokens = [lemmatizer.lemmatize(t) for t in word_tokenize(s) if t not in stop_words]\n",
    "        s = ' '.join(clean_tokens)\n",
    "        processed.append(s)\n",
    "\n",
    "    return processed"
   ]
  },
  {
   "cell_type": "code",
   "execution_count": 10,
   "metadata": {},
   "outputs": [
    {
     "name": "stdout",
     "output_type": "stream",
     "text": [
      "corpus vocab size: 1531\n",
      "score dimension: (583, 9)\n"
     ]
    }
   ],
   "source": [
    "# from sklearn.feature_extraction.text import TfidfVectorizer\n",
    "model = TfidfVectorizer(lowercase=True)\n",
    "\n",
    "#preprocess\n",
    "train = preprocess_text(level123_def)\n",
    "test = preprocess_text(sentence)\n",
    "level_1 = preprocess_text(icf_def)\n",
    "\n",
    "# Train the model\n",
    "X_train = train\n",
    "model.fit(X_train)\n",
    "print('corpus vocab size:', len(model.vocabulary_.keys()))\n",
    "\n",
    "# Generate Embeddings on Test\n",
    "sentence1_emb = model.transform(test)\n",
    "sentence2_emb = model.transform(level_1)\n",
    "\n",
    "# Cosine Similarity\n",
    "all_cos_score = cosine_similarity(sentence1_emb, sentence2_emb)\n",
    "print('score dimension:', all_cos_score.shape)\n",
    "\n",
    "# https://towardsdatascience.com/semantic-textual-similarity-83b3ca4a840e"
   ]
  },
  {
   "cell_type": "code",
   "execution_count": 11,
   "metadata": {},
   "outputs": [
    {
     "name": "stdout",
     "output_type": "stream",
     "text": [
      "True\n",
      "max cos: ['0.44']\n",
      "max cos of each row: total rows: 583\n",
      "[0.244, 0.0, 0.0, 0.209, 0.104, 0.174, 0.0, 0.104, 0.0, 0.0, 0.0, 0.0, 0.0, 0.0, 0.0, 0.0, 0.0, 0.0, 0.102, 0.0, 0.0, 0.0, 0.0, 0.0, 0.0, 0.0, 0.0, 0.0, 0.144, 0.0, 0.0, 0.0, 0.0, 0.0, 0.0, 0.0, 0.0, 0.112, 0.067, 0.0, 0.0, 0.0, 0.115, 0.0, 0.0, 0.244, 0.0, 0.282, 0.0, 0.0, 0.0, 0.0, 0.05, 0.0, 0.0, 0.0, 0.0, 0.0, 0.148, 0.0, 0.269, 0.191, 0.0, 0.068, 0.11, 0.099, 0.438, 0.0, 0.0, 0.108, 0.0, 0.0, 0.0, 0.106, 0.0, 0.0, 0.0, 0.0, 0.0, 0.0, 0.0, 0.275, 0.0, 0.0, 0.231, 0.0, 0.0, 0.0, 0.292, 0.0, 0.0, 0.231, 0.0, 0.0, 0.109, 0.0, 0.0, 0.0, 0.146, 0.153, 0.0, 0.0, 0.0, 0.141, 0.0, 0.0, 0.0, 0.07, 0.0, 0.0, 0.0, 0.104, 0.0, 0.0, 0.0, 0.112, 0.0, 0.0, 0.0, 0.0, 0.128, 0.0, 0.0, 0.0, 0.113, 0.0, 0.0, 0.122, 0.182, 0.0, 0.0, 0.0, 0.093, 0.231, 0.0, 0.0, 0.14, 0.173, 0.0, 0.0, 0.0, 0.162, 0.143, 0.0, 0.0, 0.237, 0.0, 0.0, 0.0, 0.0, 0.0, 0.0, 0.0, 0.0, 0.103, 0.0, 0.0, 0.0, 0.0, 0.0, 0.0, 0.0, 0.114, 0.147, 0.0, 0.074, 0.109, 0.266, 0.0, 0.0, 0.0, 0.244, 0.0, 0.116, 0.169, 0.193, 0.0, 0.0, 0.0, 0.0, 0.09, 0.0, 0.0, 0.0, 0.0, 0.0, 0.0, 0.137, 0.0, 0.0, 0.0, 0.172, 0.11, 0.104, 0.156, 0.0, 0.0, 0.0, 0.0, 0.0, 0.0, 0.0, 0.0, 0.0, 0.0, 0.0, 0.142, 0.0, 0.13, 0.152, 0.275, 0.0, 0.0, 0.203, 0.0, 0.0, 0.0, 0.0, 0.0, 0.0, 0.0, 0.0, 0.0, 0.0, 0.244, 0.166, 0.0, 0.0, 0.244, 0.0, 0.0, 0.0, 0.161, 0.0, 0.122, 0.0, 0.108, 0.087, 0.129, 0.0, 0.157, 0.201, 0.057, 0.082, 0.061, 0.0, 0.0, 0.0, 0.0, 0.0, 0.275, 0.0, 0.0, 0.0, 0.102, 0.0, 0.175, 0.065, 0.118, 0.171, 0.0, 0.191, 0.0, 0.0, 0.0, 0.0, 0.07, 0.0, 0.0, 0.0, 0.0, 0.0, 0.0, 0.0, 0.0, 0.0, 0.0, 0.0, 0.187, 0.0, 0.0, 0.0, 0.117, 0.083, 0.0, 0.0, 0.0, 0.0, 0.0, 0.0, 0.0, 0.0, 0.0, 0.081, 0.0, 0.0, 0.0, 0.095, 0.167, 0.091, 0.0, 0.0, 0.0, 0.05, 0.139, 0.0, 0.1, 0.156, 0.0, 0.0, 0.0, 0.0, 0.181, 0.035, 0.0, 0.0, 0.0, 0.07, 0.0, 0.0, 0.107, 0.086, 0.0, 0.0, 0.0, 0.101, 0.0, 0.0, 0.0, 0.0, 0.0, 0.0, 0.0, 0.117, 0.0, 0.0, 0.127, 0.0, 0.0, 0.0, 0.0, 0.0, 0.193, 0.0, 0.0, 0.0, 0.0, 0.0, 0.0, 0.0, 0.0, 0.0, 0.0, 0.0, 0.0, 0.0, 0.0, 0.0, 0.132, 0.233, 0.0, 0.223, 0.0, 0.0, 0.0, 0.0, 0.438, 0.143, 0.0, 0.0, 0.0, 0.147, 0.0, 0.0, 0.0, 0.0, 0.088, 0.0, 0.0, 0.156, 0.149, 0.244, 0.0, 0.0, 0.164, 0.0, 0.0, 0.0, 0.0, 0.139, 0.0, 0.094, 0.0, 0.0, 0.0, 0.0, 0.244, 0.0, 0.07, 0.0, 0.073, 0.0, 0.0, 0.0, 0.0, 0.0, 0.0, 0.098, 0.0, 0.0, 0.0, 0.0, 0.0, 0.275, 0.188, 0.275, 0.0, 0.0, 0.0, 0.085, 0.054, 0.124, 0.15, 0.139, 0.058, 0.146, 0.167, 0.145, 0.13, 0.0, 0.215, 0.231, 0.0, 0.0, 0.116, 0.0, 0.0, 0.0, 0.0, 0.0, 0.199, 0.0, 0.0, 0.0, 0.139, 0.115, 0.0, 0.145, 0.182, 0.131, 0.0, 0.082, 0.0, 0.0, 0.0, 0.0, 0.0, 0.0, 0.0, 0.0, 0.0, 0.0, 0.0, 0.086, 0.0, 0.0, 0.0, 0.0, 0.122, 0.0, 0.0, 0.0, 0.315, 0.0, 0.0, 0.0, 0.0, 0.0, 0.244, 0.0, 0.0, 0.256, 0.0, 0.0, 0.0, 0.0, 0.0, 0.0, 0.0, 0.0, 0.0, 0.0, 0.0, 0.0, 0.0, 0.0, 0.0, 0.0, 0.0, 0.0, 0.0, 0.185, 0.0, 0.0, 0.0, 0.0, 0.273, 0.0, 0.0, 0.145, 0.0, 0.0, 0.0, 0.057, 0.0, 0.0, 0.0, 0.0, 0.0, 0.074, 0.086, 0.0, 0.0, 0.0, 0.0, 0.0, 0.0, 0.093, 0.082, 0.0, 0.043, 0.0, 0.0, 0.0, 0.334, 0.0, 0.113, 0.058, 0.296, 0.062, 0.0, 0.0, 0.071, 0.0, 0.0, 0.0, 0.186, 0.0, 0.0, 0.086, 0.0, 0.0, 0.0, 0.0, 0.0, 0.0, 0.0, 0.136, 0.0, 0.111, 0.092, 0.089, 0.16, 0.0, 0.096, 0.0, 0.0, 0.0, 0.0, 0.0, 0.073, 0.0, 0.0, 0.0, 0.0, 0.0, 0.0, 0.0, 0.0, 0.0, 0.0, 0.0, 0.0]\n",
      "--------------------\n",
      "max cos index of each row: total rows: 583\n",
      "[7 0 0 3 7 7 0 7 0 0 0 0 0 0 0 0 0 0 6 0 0 0 0 0 0 0 0 0 4 0 0 0 0 0 0 0 0\n",
      " 0 6 0 0 0 1 0 0 7 0 7 0 0 0 0 1 0 0 0 0 0 5 0 1 1 0 5 4 5 1 0 0 7 0 0 0 5\n",
      " 0 0 0 0 0 0 0 5 0 0 6 0 0 0 8 0 0 6 0 0 7 0 0 0 7 7 0 0 0 0 0 0 0 4 0 0 0\n",
      " 7 0 0 0 3 0 0 0 0 2 0 0 0 2 0 0 3 0 0 0 0 6 6 0 0 0 5 0 0 0 6 6 0 0 6 0 0\n",
      " 0 0 0 0 0 0 2 0 0 0 0 0 0 0 2 2 0 3 7 2 0 0 0 7 0 6 2 2 0 0 0 0 5 0 0 0 0\n",
      " 0 0 3 0 0 0 3 3 3 1 0 0 0 0 0 0 0 0 0 0 0 1 0 1 5 5 0 0 0 0 0 0 0 0 0 0 0\n",
      " 0 0 7 7 0 0 7 0 0 0 1 0 1 0 1 1 7 0 3 7 6 6 1 0 0 0 0 0 5 0 0 0 5 0 1 5 1\n",
      " 0 0 1 0 0 0 0 4 0 0 0 0 0 0 0 0 0 0 0 4 0 0 0 4 4 0 0 0 0 0 0 0 0 0 4 0 0\n",
      " 0 8 4 4 0 0 0 6 6 0 4 6 0 0 0 0 4 5 0 0 0 4 0 0 1 1 0 0 0 1 0 0 0 0 0 0 0\n",
      " 1 0 0 6 0 0 0 0 0 1 0 0 0 0 0 0 0 0 0 0 0 0 0 0 0 4 8 0 8 0 0 0 0 1 7 0 0\n",
      " 0 7 0 0 0 0 7 0 0 2 2 2 0 0 2 0 0 0 0 2 0 5 0 0 0 0 7 0 4 0 7 0 0 0 0 0 0\n",
      " 6 0 0 0 0 0 5 5 5 0 0 0 5 5 5 5 7 5 5 6 6 2 0 8 6 0 0 6 0 0 0 0 0 8 0 0 0\n",
      " 6 7 0 7 7 6 0 6 0 0 0 0 0 0 0 0 0 0 0 4 0 0 0 0 3 0 0 0 8 0 0 0 0 0 7 0 0\n",
      " 8 0 0 0 0 0 0 0 0 0 0 0 0 0 0 0 0 0 0 0 7 0 0 0 0 4 0 0 7 0 0 0 4 0 0 0 0\n",
      " 0 3 4 0 0 0 0 0 0 6 6 0 6 0 0 0 8 0 4 6 8 8 0 0 6 0 0 0 0 0 0 0 0 0 0 0 0\n",
      " 0 0 7 0 1 7 7 7 0 7 0 0 0 0 0 4 0 0 0 0 0 0 0 0 0 0 0 0]\n"
     ]
    }
   ],
   "source": [
    "# all_cos_score = all_cos_score.tolist()\n",
    "max_cos = [\"%.2f\" % np.max(all_cos_score, axis = None)]\n",
    "max_score_each_row = [\"%.3f\" % n for n in np.amax(all_cos_score, axis = 1)]\n",
    "max_score_each_row = [float(n) for n in max_score_each_row]\n",
    "max_score_ind = np.argmax(all_cos_score, axis =1)\n",
    "print(len(max_score_each_row) == len(max_score_ind))\n",
    "print('max cos:', max_cos)\n",
    "print('max cos of each row:', 'total rows:', len(max_score_each_row))\n",
    "print(max_score_each_row)\n",
    "print('-'*20)\n",
    "print('max cos index of each row:', 'total rows:', len(max_score_ind))\n",
    "print(max_score_ind)\n",
    "# max_score, max_score_ind"
   ]
  },
  {
   "cell_type": "code",
   "execution_count": 12,
   "metadata": {},
   "outputs": [
    {
     "data": {
      "text/plain": [
       "8"
      ]
     },
     "execution_count": 12,
     "metadata": {},
     "output_type": "execute_result"
    }
   ],
   "source": [
    "m = max(max_score_ind)\n",
    "m # the ind list only has 0-8 which are the real category, then we put 9 as index for 'none' in the following section"
   ]
  },
  {
   "cell_type": "code",
   "execution_count": 13,
   "metadata": {},
   "outputs": [
    {
     "name": "stdout",
     "output_type": "stream",
     "text": [
      "threshold list: [0.02, 0.1, 0.2, 0.3, 0.4, 0.5, 0.6, 0.7, 0.8]\n",
      "max-macro fscore: 0.288\n",
      "best threshold 0.02\n"
     ]
    }
   ],
   "source": [
    "# add how to convert the possibility to label section\n",
    "# get prediction\n",
    "# from sklearn.metrics import f1_score\n",
    "\n",
    "zip_scor_ind = list(zip(max_score_each_row, max_score_ind))\n",
    "\n",
    "def get_predictions(zip_scor_ind, threshold):\n",
    "    \"\"\"\"\"\"\n",
    "    # threshold = 0.10\n",
    "    predictions = []\n",
    "    for s, i in zip_scor_ind:\n",
    "        if s >= threshold:\n",
    "            predictions.append(i)\n",
    "        elif s < threshold:\n",
    "            predictions.append(9) # index 9 means 'none'\n",
    "        else:\n",
    "            print('error comparison')\n",
    "    return predictions\n",
    "\n",
    "def get_best_fscore(thresholdlist, zip_scor_ind, gold):\n",
    "    \"\"\"\"\"\"\n",
    "    list_fscore = []\n",
    "    for threshold in thresholdlist:\n",
    "        predictions = get_predictions(zip_scor_ind, threshold)\n",
    "        list_fscore.append(f1_score(gold, predictions,average='macro'))\n",
    "    max_fsc = max(list_fscore)\n",
    "    best_thres = thresholdlist[list_fscore.index(max(list_fscore))]\n",
    "    return(max_fsc, best_thres)\n",
    "\n",
    "# predictions = get_predictions(zip_scor_ind, threshold=0.1)\n",
    "thresholdlist = [0.02, 0.1, 0.2, 0.3,0.4,0.5,0.6,0.7,0.8]\n",
    "max_fsc, best_thres = get_best_fscore(thresholdlist, zip_scor_ind, gold)\n",
    "print('threshold list:',thresholdlist)\n",
    "print('max-macro fscore:', '%.3f' % max_fsc)\n",
    "print('best threshold',best_thres)\n"
   ]
  },
  {
   "cell_type": "code",
   "execution_count": 14,
   "metadata": {},
   "outputs": [
    {
     "name": "stdout",
     "output_type": "stream",
     "text": [
      "              precision    recall  f1-score   support\n",
      "\n",
      "           0       0.25      0.07      0.11        27\n",
      "           1       0.22      0.15      0.18        33\n",
      "           2       0.36      0.28      0.31        18\n",
      "           3       0.45      0.11      0.18        45\n",
      "           4       0.38      0.26      0.31        31\n",
      "           5       0.83      0.25      0.38        77\n",
      "           6       0.59      0.25      0.35        67\n",
      "           7       0.31      0.31      0.31        35\n",
      "           8       0.55      0.11      0.18        57\n",
      "           9       0.41      0.87      0.56       193\n",
      "\n",
      "    accuracy                           0.42       583\n",
      "   macro avg       0.43      0.27      0.29       583\n",
      "weighted avg       0.48      0.42      0.37       583\n",
      "\n"
     ]
    }
   ],
   "source": [
    "# get classification report \n",
    "predictions = get_predictions(zip_scor_ind, best_thres)\n",
    "confusion = confusion_matrix(gold, predictions)\n",
    "report = classification_report(gold, predictions)\n",
    "\n",
    "print(report)"
   ]
  },
  {
   "cell_type": "code",
   "execution_count": 15,
   "metadata": {},
   "outputs": [
    {
     "name": "stdout",
     "output_type": "stream",
     "text": [
      "0 learning \n",
      "1 general \n",
      "2 communication\n",
      "3 mobility\n",
      "4 selfcare \n",
      "5 domestic \n",
      "6 interpersonal \n",
      "7 major\n",
      "8 social\n",
      "9 none \n"
     ]
    }
   ],
   "source": [
    "for i, label in enumerate(labels):\n",
    "    print(i,label)"
   ]
  },
  {
   "cell_type": "code",
   "execution_count": 16,
   "metadata": {},
   "outputs": [
    {
     "data": {
      "image/png": "[encoded data removed]",
      "text/plain": [
       "<Figure size 432x288 with 2 Axes>"
      ]
     },
     "metadata": {
      "needs_background": "light"
     },
     "output_type": "display_data"
    }
   ],
   "source": [
    "# plot confusion matrix \n",
    "disp = ConfusionMatrixDisplay(confusion_matrix=confusion,display_labels=checklabel)\n",
    "disp.plot()\n",
    "plt.show()"
   ]
  },
  {
   "cell_type": "code",
   "execution_count": 17,
   "metadata": {},
   "outputs": [],
   "source": [
    "model = 'BOW'\n",
    "df_predictions = pd.DataFrame({\n",
    "    'utterances':sentence,\n",
    "    'predictions':predictions\n",
    "    })\n",
    "df_predictions.to_csv(f'../datasets/predictions/predictions_{model}_level_1.tsv', sep='\\t',index=None)"
   ]
  }
 ],
 "metadata": {
  "kernelspec": {
   "display_name": "base",
   "language": "python",
   "name": "python3"
  },
  "language_info": {
   "codemirror_mode": {
    "name": "ipython",
    "version": 3
   },
   "file_extension": ".py",
   "mimetype": "text/x-python",
   "name": "python",
   "nbconvert_exporter": "python",
   "pygments_lexer": "ipython3",
   "version": "3.8.8"
  },
  "orig_nbformat": 4
 },
 "nbformat": 4,
 "nbformat_minor": 2
}
