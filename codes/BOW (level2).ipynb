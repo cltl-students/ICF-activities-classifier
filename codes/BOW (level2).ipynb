{
 "cells": [
  {
   "cell_type": "code",
   "execution_count": 1,
   "metadata": {},
   "outputs": [],
   "source": [
    "import pandas as pd\n",
    "import numpy as np\n",
    "from nltk import word_tokenize\n",
    "from nltk.corpus import stopwords\n",
    "from nltk.stem import WordNetLemmatizer\n",
    "from sklearn.feature_extraction.text import TfidfVectorizer\n",
    "from sklearn.metrics.pairwise import cosine_similarity\n",
    "from sklearn.metrics import confusion_matrix\n",
    "from sklearn.metrics import classification_report\n",
    "from sklearn.metrics import f1_score\n",
    "import matplotlib.pyplot as plt\n",
    "from sklearn.metrics import confusion_matrix, ConfusionMatrixDisplay\n",
    "import nltk\n",
    "from nltk.tokenize import RegexpTokenizer\n"
   ]
  },
  {
   "cell_type": "code",
   "execution_count": 2,
   "metadata": {},
   "outputs": [],
   "source": [
    "df_test = pd.read_csv('../datasets/test set/full_test_sep.tsv', sep='\\t')\n",
    "df_icf = pd.read_csv('../datasets/ICF/ICF_def_label.tsv', sep='\\t')\n",
    "df_icf_level2 = pd.read_csv('../datasets/ICF/ICF_level2_def_label.tsv', sep='\\t')"
   ]
  },
  {
   "cell_type": "code",
   "execution_count": 3,
   "metadata": {},
   "outputs": [
    {
     "name": "stdout",
     "output_type": "stream",
     "text": [
      "clean test set labels\n"
     ]
    }
   ],
   "source": [
    "icf_def_level2 = df_icf_level2['def-level2'].tolist() # exclude the none label def\n",
    "labels_level2 = df_icf_level2['label-level2']\n",
    "labels_level1 = df_icf['label'].tolist()\n",
    "sentence = df_test['utterances'].tolist()\n",
    "\n",
    "# transform label to num\n",
    "df_test.loc[df_test['gold'] == 'learning', 'gold'] = 0\n",
    "df_test.loc[df_test['gold'] == 'general', 'gold'] = 1\n",
    "df_test.loc[df_test['gold'] == 'communication', 'gold'] = 2\n",
    "df_test.loc[df_test['gold'] == 'mobility', 'gold'] = 3\n",
    "df_test.loc[df_test['gold'] == 'selfcare', 'gold'] = 4\n",
    "df_test.loc[df_test['gold'] == 'domestic', 'gold'] = 5\n",
    "df_test.loc[df_test['gold'] == 'interpersonal', 'gold'] = 6\n",
    "df_test.loc[df_test['gold'] == 'major', 'gold'] = 7\n",
    "df_test.loc[df_test['gold'] == 'social', 'gold'] = 8\n",
    "df_test.loc[df_test['gold'] == 'none', 'gold'] = 9\n",
    "\n",
    "\n",
    "checklabel = [0,1,2,3,4,5,6,7,8,9]\n",
    "gold = df_test['gold'].tolist()\n",
    "for n,i in enumerate(gold):\n",
    "    if i not in checklabel:\n",
    "        if i != '-'*20:\n",
    "            print(i,n)\n",
    "print('clean test set labels')\n"
   ]
  },
  {
   "cell_type": "code",
   "execution_count": 4,
   "metadata": {},
   "outputs": [
    {
     "name": "stdout",
     "output_type": "stream",
     "text": [
      "with sep processing\n",
      "with sep processing\n"
     ]
    }
   ],
   "source": [
    "if '-'*20 in sentence:\n",
    "    print('with sep processing')\n",
    "    sentence = [ i for i in sentence if i != '-'*20]\n",
    "\n",
    "if '-'*20 in gold:\n",
    "    print('with sep processing')\n",
    "    gold = [ i for i in gold if i != '-'*20]"
   ]
  },
  {
   "cell_type": "code",
   "execution_count": 5,
   "metadata": {},
   "outputs": [
    {
     "data": {
      "text/plain": [
       "['Purposeful sensory experiences is about  Watching, Listening, Mouthing, Touching, Smelling, Tasting.',\n",
       " 'Basic learning is about Copying, Learning through actions with objects, Acquiring language, Acquiring additional,  language, Rehearsing, Acquiring concepts, Acquiring information, Learning to read, Learning to write, Learning to calculate, Acquiring skills',\n",
       " 'Applying knowledge is about Focusing attention, Thinking, Reading, Writing, Calculating, Solving problems, Making decisions',\n",
       " 'Undertaking a single task is about Carrying out simple or complex and coordinated actions related to the mental and physical components of a single task, such as initiating a task, organizing time, space and materials for a task, pacing task performance, and carrying out, completing, and sustaining a task.',\n",
       " 'Undertaking multiple tasks is about Carrying out simple or complex and coordinated actions as components of multiple, integrated and complex tasks in sequence or simultaneously.',\n",
       " 'Carrying out daily routine is about Carrying out simple or complex and coordinated actions in order to plan, manage and complete the requirements of day-to-day procedures or duties, such as budgeting time and making plans for separate activities throughout the day. ',\n",
       " 'Handling stress and other psychological demands is about Carrying out simple or complex and coordinated actions to manage and control the psychological demands required to carry out tasks demanding significant responsibilities and involving stress, distraction, or crises, such as driving a vehicle during heavy traffic or taking care of many children.',\n",
       " 'Communicating in terms of receiving is about receiving spoken messages, receiving nonverbal messages, receiving formal sign language messages',\n",
       " 'Communicating in terms of producing is about speaking, producing non-speech vocal expression, singing, producing nonverbal messages, producing messages in formal sign language, writing messages.',\n",
       " 'Conversation and use of communication devices and techniques is about conversation, discussion, using communication devices and techniques.',\n",
       " 'Changing basic body position, maintaining body position, transferring oneself.',\n",
       " 'Carrying, moving and handling objects is about lifting and carrying objects, moving objects with lower extremities, fine hand use, hand and arm use, fine foot use,',\n",
       " 'Walking and moving is about walking, going up and down stairs, moving around, moving around in different locations, moving around using equipment.',\n",
       " 'Moving around using transportation is about using transportation, driving, riding animals for transportation',\n",
       " \"Washing and drying one's whole body, or body parts, using water and appropriate cleaning and drying materials or methods, such as bathing, showering, washing hands and feet, face and hair, and drying with a towel.\",\n",
       " 'Looking after those parts of the body, such as skin, face, teeth, scalp, nails and genitals, that require more than washing and drying. ',\n",
       " 'Planning and carrying out the elimination of human waste (menstruation, urination and defecation), and clean oneself afterwards.',\n",
       " 'Carrying out the coordinated actions and tasks of putting on and taking off clothes and footwear in sequence and in keeping with climatic and social conditions, such as by putting on, adjusting and removing shirts, skirts, blouses, pants, undergarments, saris, kimono, tights, hats, gloves, coats, shoes, boots, sandals and slippers.',\n",
       " 'Carrying out the coordinated tasks and actions of eating food that has been served, bringing it to the mouth and consuming it in culturally acceptable ways, cutting or breaking food into pieces, opening containers and packets, using eating implements, having meals, feasting or dining.',\n",
       " 'Taking hold of a drink, bringing it to the mouth, and consuming the drink in culturally acceptable ways, mixing, stirring and pouring liquids for drinking, opening bottles and cans, drinking through a straw or drinking running water such as from a tap or a spring; feeding from the breast.',\n",
       " 'Ensuring physical comfort, health and physical and mental well-being, such as by maintaining a balanced diet, and an appropriate level of physical activity, keeping warm or cool, avoiding harms to health, following safe sex practices, such as using condoms, getting immunizations and regular physical examinations.',\n",
       " 'Acquisition of necessities is about acquiring a place to live, acquisition of goods and services.',\n",
       " 'Household tasks is about preparing meals, doing housework.',\n",
       " 'Caring for household objects and assisting others is about caring for household objects, assisting others',\n",
       " 'General interpersonal interactions is about showing respect, warmth, appreciation, tolerance, criticism, socialcues or physical contact in relationships; showing differentiation of failiar persons; forming, terminating relationships, regulating emotions and impulses',\n",
       " 'Particular interpersonal relationships is about dealing with strangers, formal, informal, family or intimate relationships',\n",
       " 'Education is about attending informal, preschool, school, higher education or vocational training.',\n",
       " 'Work and employment is about repairing for work, acquiring, keeping or terminating a job and having paid employment or voluntary work',\n",
       " 'Economic life is about doing basic economic transactions or complex economic transactions and having command over economic resources from private or public sources',\n",
       " 'Community life is about Engaging in aspects of community social life, such as engaging in charitable organizations, services clubs or professional social organizations',\n",
       " 'Recreation and leisure is about Engaging in any form of play, recreational or leisure pursuit',\n",
       " 'Religion and spirituality is about Engaging in religious or spiritual activities, organizations and practices for self-fulfilment, finding meaning, religious or spiritual value and establishing connection with a divine power',\n",
       " 'Human rights is about Enjoying all nationally and internationally recognized rights that are accorded to people by virtue of their humanity alone',\n",
       " 'Political life and citizenship is about Engaging in the social, political, governmental life of a citizen, having legal status as a citizen and enjoying the rights, protections, privileges and duties associated with that role']"
      ]
     },
     "execution_count": 5,
     "metadata": {},
     "output_type": "execute_result"
    }
   ],
   "source": [
    "icf_def_level2"
   ]
  },
  {
   "cell_type": "code",
   "execution_count": 6,
   "metadata": {},
   "outputs": [
    {
     "name": "stdout",
     "output_type": "stream",
     "text": [
      "num of def: 34\n",
      "num of level1 labels: 10\n",
      "num of level2 labels: 34\n",
      "num of test sentences: 583\n"
     ]
    }
   ],
   "source": [
    "print('num of def:', len(icf_def_level2))\n",
    "print('num of level1 labels:', len(labels_level1))\n",
    "print('num of level2 labels:', len(labels_level2))\n",
    "print('num of test sentences:',len(sentence))"
   ]
  },
  {
   "attachments": {},
   "cell_type": "markdown",
   "metadata": {},
   "source": [
    "#### preprocess\n",
    "- lower casing\n",
    "- remove punctuation\n",
    "- lemmatization\n",
    "- remove stopwords\n",
    "- tf-idf"
   ]
  },
  {
   "cell_type": "code",
   "execution_count": 7,
   "metadata": {},
   "outputs": [],
   "source": [
    "with open (\"../datasets/ICF/icf_level123_def.txt\",'r',encoding='utf-8') as infile:\n",
    "    raw_level123_def = infile.read()"
   ]
  },
  {
   "cell_type": "code",
   "execution_count": 8,
   "metadata": {},
   "outputs": [
    {
     "name": "stdout",
     "output_type": "stream",
     "text": [
      "num of train sentences: 320\n"
     ]
    }
   ],
   "source": [
    "level123_def = raw_level123_def.split('.')\n",
    "print('num of train sentences:', len(level123_def))"
   ]
  },
  {
   "cell_type": "code",
   "execution_count": 9,
   "metadata": {},
   "outputs": [],
   "source": [
    "# Preprocess\n",
    "# import nltk\n",
    "# from nltk.stem import WordNetLemmatizer\n",
    "# from nltk.tokenize import RegexpTokenizer\n",
    "# from nltk.corpus import stopwords\n",
    "\n",
    "def preprocess_text(list_of_sentence):\n",
    "    \"\"\"\n",
    "    \"\"\"\n",
    "    tokenizer = RegexpTokenizer(r'\\w+')\n",
    "    lemmatizer = WordNetLemmatizer()\n",
    "    stop_words = [w.lower() for w in stopwords.words('english')]\n",
    "    processed = []\n",
    "    for s in list_of_sentence:\n",
    "        s = s.lower()\n",
    "        clean_tokens = [lemmatizer.lemmatize(t) for t in word_tokenize(s) if t not in stop_words]\n",
    "        s = ' '.join(clean_tokens)\n",
    "        processed.append(s)\n",
    "\n",
    "    return processed"
   ]
  },
  {
   "cell_type": "code",
   "execution_count": 10,
   "metadata": {},
   "outputs": [
    {
     "name": "stdout",
     "output_type": "stream",
     "text": [
      "corpus vocab size: 1531\n",
      "score dimension: (583, 34)\n"
     ]
    }
   ],
   "source": [
    "# from sklearn.feature_extraction.text import TfidfVectorizer\n",
    "model = TfidfVectorizer(lowercase=True)\n",
    "\n",
    "#preprocess\n",
    "train = preprocess_text(level123_def)\n",
    "test = preprocess_text(sentence)\n",
    "level_2 = preprocess_text(icf_def_level2)\n",
    "\n",
    "# Train the model\n",
    "X_train = train\n",
    "model.fit(X_train)\n",
    "print('corpus vocab size:', len(model.vocabulary_.keys()))\n",
    "\n",
    "# Generate Embeddings on Test\n",
    "sentence1_emb = model.transform(test)\n",
    "sentence2_emb = model.transform(level_2)\n",
    "\n",
    "# Cosine Similarity\n",
    "all_cos_score = cosine_similarity(sentence1_emb, sentence2_emb)\n",
    "print('score dimension:', all_cos_score.shape)\n",
    "\n",
    "# https://towardsdatascience.com/semantic-textual-similarity-83b3ca4a840e"
   ]
  },
  {
   "cell_type": "code",
   "execution_count": 11,
   "metadata": {},
   "outputs": [
    {
     "name": "stdout",
     "output_type": "stream",
     "text": [
      "True\n",
      "max cos: ['0.70']\n",
      "max cos of each row: total rows: 583\n",
      "[0.695, 0.0, 0.0, 0.35, 0.297, 0.495, 0.0, 0.297, 0.0, 0.0, 0.0, 0.046, 0.0, 0.0, 0.0, 0.192, 0.129, 0.122, 0.135, 0.208, 0.185, 0.0, 0.0, 0.0, 0.0, 0.29, 0.242, 0.0, 0.164, 0.0, 0.038, 0.028, 0.0, 0.0, 0.206, 0.056, 0.0, 0.126, 0.065, 0.0, 0.0, 0.0, 0.135, 0.0, 0.11, 0.695, 0.158, 0.565, 0.0, 0.0, 0.255, 0.0, 0.037, 0.07, 0.0, 0.0, 0.136, 0.167, 0.239, 0.0, 0.495, 0.275, 0.0, 0.072, 0.125, 0.209, 0.632, 0.0, 0.087, 0.306, 0.0, 0.0, 0.0, 0.209, 0.0, 0.0, 0.0, 0.153, 0.211, 0.156, 0.0, 0.442, 0.0, 0.166, 0.0, 0.077, 0.0, 0.0, 0.214, 0.524, 0.0, 0.0, 0.0, 0.0, 0.311, 0.25, 0.215, 0.0, 0.0, 0.306, 0.284, 0.0, 0.0, 0.278, 0.0, 0.0, 0.38, 0.139, 0.246, 0.216, 0.0, 0.297, 0.0, 0.0, 0.212, 0.157, 0.235, 0.0, 0.0, 0.0, 0.15, 0.153, 0.0, 0.0, 0.239, 0.0, 0.0, 0.0, 0.204, 0.105, 0.0, 0.0, 0.09, 0.0, 0.0, 0.0, 0.333, 0.119, 0.0, 0.0, 0.0, 0.385, 0.199, 0.0, 0.0, 0.329, 0.0, 0.0, 0.0, 0.0, 0.282, 0.097, 0.0, 0.0, 0.235, 0.0, 0.0, 0.067, 0.0, 0.07, 0.0, 0.0, 0.258, 0.49, 0.0, 0.0, 0.311, 0.261, 0.0, 0.281, 0.0, 0.695, 0.0, 0.29, 0.236, 0.19, 0.254, 0.0, 0.0, 0.0, 0.0, 0.0, 0.0, 0.0, 0.0, 0.0, 0.0, 0.149, 0.0, 0.0, 0.178, 0.186, 0.12, 0.113, 0.134, 0.0, 0.0, 0.0, 0.0, 0.0, 0.0, 0.044, 0.097, 0.067, 0.302, 0.256, 0.205, 0.0, 0.188, 0.319, 0.442, 0.115, 0.076, 0.229, 0.0, 0.148, 0.14, 0.349, 0.13, 0.174, 0.276, 0.0, 0.123, 0.321, 0.695, 0.473, 0.0, 0.0, 0.695, 0.53, 0.53, 0.0, 0.324, 0.0, 0.218, 0.0, 0.276, 0.222, 0.369, 0.13, 0.095, 0.393, 0.055, 0.069, 0.072, 0.249, 0.0, 0.0, 0.0, 0.0, 0.442, 0.0, 0.093, 0.0, 0.164, 0.189, 0.252, 0.069, 0.17, 0.192, 0.0, 0.275, 0.0, 0.0, 0.177, 0.53, 0.044, 0.223, 0.0, 0.0, 0.0, 0.0, 0.0, 0.0, 0.0, 0.0, 0.0, 0.059, 0.267, 0.117, 0.129, 0.328, 0.397, 0.096, 0.087, 0.098, 0.0, 0.402, 0.236, 0.289, 0.236, 0.231, 0.0, 0.281, 0.0, 0.097, 0.0, 0.0, 0.13, 0.19, 0.153, 0.0, 0.0, 0.232, 0.0, 0.0, 0.206, 0.0, 0.0, 0.094, 0.0, 0.088, 0.275, 0.16, 0.0, 0.113, 0.0, 0.044, 0.123, 0.0, 0.125, 0.288, 0.087, 0.0, 0.0, 0.285, 0.0, 0.0, 0.229, 0.0, 0.0, 0.0, 0.0, 0.0, 0.0, 0.0, 0.271, 0.266, 0.147, 0.116, 0.0, 0.0, 0.155, 0.0, 0.216, 0.0, 0.0, 0.0, 0.0, 0.0, 0.0, 0.067, 0.078, 0.0, 0.087, 0.109, 0.338, 0.254, 0.154, 0.171, 0.0, 0.163, 0.0, 0.297, 0.338, 0.164, 0.632, 0.407, 0.09, 0.0, 0.0, 0.419, 0.0, 0.116, 0.53, 0.39, 0.251, 0.288, 0.0, 0.305, 0.293, 0.479, 0.0, 0.0, 0.373, 0.0, 0.0, 0.0, 0.0, 0.316, 0.103, 0.0, 0.127, 0.0, 0.13, 0.12, 0.695, 0.0, 0.027, 0.0, 0.207, 0.0, 0.0, 0.156, 0.0, 0.0, 0.0, 0.082, 0.166, 0.0, 0.222, 0.0, 0.235, 0.442, 0.302, 0.442, 0.093, 0.0, 0.0, 0.09, 0.132, 0.2, 0.266, 0.128, 0.061, 0.149, 0.222, 0.0, 0.254, 0.0, 0.303, 0.0, 0.0, 0.0, 0.097, 0.0, 0.0, 0.0, 0.0, 0.0, 0.226, 0.0, 0.0, 0.0, 0.0, 0.328, 0.314, 0.412, 0.518, 0.181, 0.072, 0.229, 0.0, 0.0, 0.0, 0.0, 0.0, 0.398, 0.0, 0.122, 0.124, 0.0, 0.0, 0.098, 0.0, 0.0, 0.0, 0.078, 0.154, 0.456, 0.322, 0.0, 0.387, 0.0, 0.127, 0.0, 0.0, 0.0, 0.695, 0.148, 0.0, 0.187, 0.0, 0.124, 0.0, 0.0, 0.0, 0.248, 0.0, 0.084, 0.0, 0.239, 0.0, 0.0, 0.0, 0.0, 0.0, 0.046, 0.095, 0.0, 0.147, 0.371, 0.075, 0.0, 0.0, 0.0, 0.105, 0.0, 0.0, 0.29, 0.0, 0.0, 0.062, 0.188, 0.273, 0.0, 0.0, 0.0, 0.0, 0.23, 0.033, 0.0, 0.0, 0.0, 0.0, 0.0, 0.19, 0.09, 0.145, 0.115, 0.042, 0.187, 0.0, 0.0, 0.395, 0.0, 0.089, 0.092, 0.325, 0.098, 0.0, 0.0, 0.069, 0.321, 0.142, 0.0, 0.209, 0.0, 0.161, 0.096, 0.0, 0.0, 0.321, 0.0, 0.13, 0.0, 0.0, 0.386, 0.233, 0.161, 0.261, 0.254, 0.455, 0.349, 0.274, 0.257, 0.0, 0.0, 0.0, 0.0, 0.11, 0.028, 0.077, 0.0, 0.0, 0.0, 0.0, 0.0, 0.0, 0.209, 0.0, 0.0, 0.0]\n",
      "--------------------\n",
      "max cos index of each row: total rows: 583\n",
      "[27  0  0 12 27 27  0 27  0  0  0  6  0  0  0 18 18 20  6  2 20  0  0  0\n",
      "  0  5  5  0 15  0 20  6  0  0 11 20  0  2 32  0  0  0 12  0  1 27 27 26\n",
      "  0  0 27  0  5  5  0  0 14 32 23  0  3  3  0 14  6  5  3  0 17 27  0  0\n",
      "  0 18  0  0  0 18 18 21  0 23  0  6  0  3  0  0 29 12  0  0  0  0 27 26\n",
      " 26  0  0 26  5  0  0  1  0  0 11 11  2 14  0 27  0  0 21 21 12  0  0  0\n",
      "  1  5  0  0  1  0  0  0  2  6  0  0 32  0  0  0 27 29  0  0  0  5 25  0\n",
      "  0 25  0  0  0  0 20 21  0  0  7  0  0  3  0  3  0  0  7  7  0  0 27  9\n",
      "  0 11  0 27  0  5 15  9 15  0  0  0  0  0  0  0  0  0  0 12  0  0 16 12\n",
      " 12 12 12  0  0  0  0  0  0 20 20 20  5 16  3  0  3 23 23 11 19  2  0  2\n",
      " 21  5  3  1  2  0  1 21 27 27  0  0 27  5  5  0 32  0  6  0  6  6 27  3\n",
      " 19 27 32 20 12 32  0  0  0  0 23  0 17  0 23 16  3 14  3  2  0  3  0  0\n",
      " 30  5  6 30  0  0  0  0  0  0  0  0  0  3 18  6 21 19 19 20 20  5  0  5\n",
      "  5  5  5  5  0  5  0 20  0  0 21  5 20  0  0  5  0  0 20  0  0 18  0 19\n",
      " 10 11  0 20  0  6  5  0 12  5  6  0  0 32  0  0 30  0  0  0  0  0  0  0\n",
      " 22 22  5  4  0  0 18  0 11  0  0  0  0  0  0 20 20  0  1 20 30 30 20 29\n",
      "  0 29  0 30 30 20  3 27 20  0  0 27  0 16  5  5 27  5  0  9  9  9  0  0\n",
      " 32  0  0  0  0  7 20  0 21  0  3 20 27  0 14  0 27  0  0 12  0  0  0 20\n",
      " 12  0 21  0 12 23 23 23 20  0  0 14 14 23 22 23 14 23 21  0  9  0 32  0\n",
      "  0  0 21  0  0  0  0  0 12  0  0  0  0 27 19 27 27 25 24 25  0  0  0  0\n",
      "  0 32  0 20 18  0  0 15  0  0  0  3 18 31 31  0  7  0  5  0  0  0 27 21\n",
      "  0 29  0 18  0  0  0 12  0 19  0 12  0  0  0  0  0 14 15  0  5 26 20  0\n",
      "  0  0 14  0  0 26  0  0  3 32 32  0  0  0  0 32 14  0  0  0  0  0 21 32\n",
      " 24 24 32 21  0  0 29  0 32 20 29 21  0  0 32 21  8  0  2  0 18  2  0  0\n",
      " 21  0  3  0  0 27  5  3 27 27 27  5 27  5  0  0  0  0 10  3  3  0  0  0\n",
      "  0  0  0 32  0  0  0]\n"
     ]
    }
   ],
   "source": [
    "# all_cos_score = all_cos_score.tolist()\n",
    "max_cos = [\"%.2f\" % np.max(all_cos_score, axis = None)]\n",
    "max_score_each_row = [\"%.3f\" % n for n in np.amax(all_cos_score, axis = 1)]\n",
    "max_score_each_row = [float(n) for n in max_score_each_row]\n",
    "max_score_ind = np.argmax(all_cos_score, axis =1)\n",
    "print(len(max_score_each_row) == len(max_score_ind))\n",
    "print('max cos:', max_cos)\n",
    "print('max cos of each row:', 'total rows:', len(max_score_each_row))\n",
    "print(max_score_each_row)\n",
    "print('-'*20)\n",
    "print('max cos index of each row:', 'total rows:', len(max_score_ind))\n",
    "print(max_score_ind)\n",
    "# max_score, max_score_ind"
   ]
  },
  {
   "cell_type": "code",
   "execution_count": 12,
   "metadata": {},
   "outputs": [
    {
     "name": "stdout",
     "output_type": "stream",
     "text": [
      "same len before and after converted: True\n"
     ]
    }
   ],
   "source": [
    "# convert level 2 labels to level 1 labels so that we can evaluate the predictions with the test set label\n",
    "# convert list\n",
    "learning_0 = [0,1,2]\n",
    "general_1 = [3,4,5,6]\n",
    "communication_2 = [7,8,9]\n",
    "mobility_3 = [10,11,12,13]\n",
    "selfcare_4 = [14,15,16,17,18,19,20]\n",
    "domestic_5 = [21,22,23]\n",
    "interpersonal_6 = [24,25]\n",
    "major_7 = [26,27,28]\n",
    "social_8 = [29,30,31,32,33]\n",
    "\n",
    "# convert_list = [learning_0, general_1, communication_2, mobility_3, selfcare_4, domestic_5, interpersonal_6, major_7, social_8]\n",
    "\n",
    "converted_max_score_ind = []\n",
    "for ind in max_score_ind:\n",
    "    if ind in learning_0:\n",
    "        converted_max_score_ind.append(0)\n",
    "    elif ind in general_1:\n",
    "        converted_max_score_ind.append(1)\n",
    "    elif ind in communication_2:\n",
    "        converted_max_score_ind.append(2)\n",
    "    elif ind in mobility_3:\n",
    "        converted_max_score_ind.append(3)\n",
    "    elif ind in selfcare_4:\n",
    "        converted_max_score_ind.append(4)\n",
    "    elif ind in domestic_5:\n",
    "        converted_max_score_ind.append(5)\n",
    "    elif ind in interpersonal_6:\n",
    "        converted_max_score_ind.append(6)\n",
    "    elif ind in major_7:\n",
    "        converted_max_score_ind.append(7)\n",
    "    elif ind in social_8:\n",
    "        converted_max_score_ind.append(8)\n",
    "    else:\n",
    "        print('wrong range')\n",
    "        \n",
    "print('same len before and after converted:', len(max_score_ind)==len(converted_max_score_ind))\n"
   ]
  },
  {
   "cell_type": "code",
   "execution_count": 13,
   "metadata": {},
   "outputs": [
    {
     "name": "stdout",
     "output_type": "stream",
     "text": [
      "threshold list: [0.02, 0.1, 0.2, 0.25, 0.3, 0.4, 0.5, 0.6, 0.7, 0.8, 0.9]\n",
      "max-macro fscore: 0.257\n",
      "best threshold 0.02\n"
     ]
    }
   ],
   "source": [
    "# add how to convert the possibility to label section\n",
    "# get prediction\n",
    "# from sklearn.metrics import f1_score\n",
    "\n",
    "zip_scor_ind = list(zip(max_score_each_row, converted_max_score_ind))\n",
    "\n",
    "def get_predictions(zip_scor_ind, threshold):\n",
    "    \"\"\"\"\"\"\n",
    "    # threshold = 0.10\n",
    "    predictions = []\n",
    "    for s, i in zip_scor_ind:\n",
    "        if s >= threshold:\n",
    "            predictions.append(i)\n",
    "        elif s < threshold:\n",
    "            predictions.append(9) # index 9 means 'none'\n",
    "        else:\n",
    "            print('error comparison')\n",
    "    return predictions\n",
    "\n",
    "def get_best_fscore(thresholdlist, zip_scor_ind, gold):\n",
    "    \"\"\"\"\"\"\n",
    "    list_fscore = []\n",
    "    for threshold in thresholdlist:\n",
    "        predictions = get_predictions(zip_scor_ind, threshold)\n",
    "        list_fscore.append(f1_score(gold, predictions,average='macro'))\n",
    "    # print(list_fscore)\n",
    "    # print(type(list_fscore[1]))\n",
    "    max_fsc = max(list_fscore)\n",
    "    best_thres = thresholdlist[list_fscore.index(max(list_fscore))]\n",
    "    return(max_fsc, best_thres)\n",
    "\n",
    "# predictions = get_predictions(zip_scor_ind, threshold=0.1)\n",
    "thresholdlist = [0.02, 0.1, 0.2, 0.25, 0.3,0.4,0.5,0.6,0.7,0.8,0.9]\n",
    "max_fsc, best_thres = get_best_fscore(thresholdlist, zip_scor_ind, gold)\n",
    "print('threshold list:',thresholdlist)\n",
    "print('max-macro fscore:', '%.3f' % max_fsc)\n",
    "print('best threshold',best_thres)\n",
    "#\n"
   ]
  },
  {
   "cell_type": "code",
   "execution_count": 14,
   "metadata": {},
   "outputs": [
    {
     "name": "stdout",
     "output_type": "stream",
     "text": [
      "              precision    recall  f1-score   support\n",
      "\n",
      "           0       0.18      0.11      0.14        27\n",
      "           1       0.13      0.27      0.17        33\n",
      "           2       0.33      0.22      0.27        18\n",
      "           3       0.23      0.13      0.17        45\n",
      "           4       0.13      0.29      0.18        31\n",
      "           5       0.45      0.19      0.27        77\n",
      "           6       0.71      0.07      0.14        67\n",
      "           7       0.34      0.37      0.36        35\n",
      "           8       0.44      0.26      0.33        57\n",
      "           9       0.47      0.67      0.55       193\n",
      "\n",
      "    accuracy                           0.36       583\n",
      "   macro avg       0.34      0.26      0.26       583\n",
      "weighted avg       0.41      0.36      0.34       583\n",
      "\n"
     ]
    }
   ],
   "source": [
    "# get classification report \n",
    "predictions = get_predictions(zip_scor_ind, best_thres)\n",
    "confusion = confusion_matrix(gold, predictions)\n",
    "report = classification_report(gold, predictions)\n",
    "\n",
    "print(report)"
   ]
  },
  {
   "cell_type": "code",
   "execution_count": 15,
   "metadata": {},
   "outputs": [
    {
     "name": "stdout",
     "output_type": "stream",
     "text": [
      "0 learning \n",
      "1 general \n",
      "2 communication\n",
      "3 mobility\n",
      "4 selfcare \n",
      "5 domestic \n",
      "6 interpersonal \n",
      "7 major\n",
      "8 social\n",
      "9 none \n"
     ]
    }
   ],
   "source": [
    "for i, label in enumerate(labels_level1):\n",
    "    print(i,label)"
   ]
  },
  {
   "cell_type": "code",
   "execution_count": 16,
   "metadata": {},
   "outputs": [
    {
     "data": {
      "image/png": "[encoded data removed]",
      "text/plain": [
       "<Figure size 432x288 with 2 Axes>"
      ]
     },
     "metadata": {
      "needs_background": "light"
     },
     "output_type": "display_data"
    }
   ],
   "source": [
    "# plot confusion matrix \n",
    "disp = ConfusionMatrixDisplay(confusion_matrix=confusion,display_labels=checklabel)\n",
    "disp.plot()\n",
    "plt.show()"
   ]
  },
  {
   "cell_type": "code",
   "execution_count": 17,
   "metadata": {},
   "outputs": [],
   "source": [
    "model = 'BOW'\n",
    "df_predictions = pd.DataFrame({\n",
    "    'utterances':sentence,\n",
    "    'predictions':predictions\n",
    "    })\n",
    "df_predictions.to_csv(f'../datasets/predictions/predictions_{model}_level_2.tsv', sep='\\t',index=None)"
   ]
  }
 ],
 "metadata": {
  "kernelspec": {
   "display_name": "base",
   "language": "python",
   "name": "python3"
  },
  "language_info": {
   "codemirror_mode": {
    "name": "ipython",
    "version": 3
   },
   "file_extension": ".py",
   "mimetype": "text/x-python",
   "name": "python",
   "nbconvert_exporter": "python",
   "pygments_lexer": "ipython3",
   "version": "3.8.8"
  },
  "orig_nbformat": 4
 },
 "nbformat": 4,
 "nbformat_minor": 2
}
