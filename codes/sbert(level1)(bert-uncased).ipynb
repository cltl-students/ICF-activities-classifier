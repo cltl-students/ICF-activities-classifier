{
 "cells": [
  {
   "cell_type": "code",
   "execution_count": 1,
   "metadata": {},
   "outputs": [],
   "source": [
    "import pandas as pd\n",
    "import numpy as np\n",
    "from sklearn.metrics.pairwise import cosine_similarity\n",
    "from sentence_transformers import SentenceTransformer\n",
    "# for reprot and visualization and find the best threshold\n",
    "from sklearn.metrics import confusion_matrix\n",
    "from sklearn.metrics import classification_report\n",
    "from sklearn.metrics import f1_score\n",
    "import matplotlib.pyplot as plt\n",
    "from sklearn.metrics import confusion_matrix, ConfusionMatrixDisplay\n"
   ]
  },
  {
   "cell_type": "code",
   "execution_count": 2,
   "metadata": {},
   "outputs": [
    {
     "name": "stdout",
     "output_type": "stream",
     "text": [
      "num of train sentences: 320\n"
     ]
    }
   ],
   "source": [
    "with open (\"../datasets/ICF/icf_level123_def.txt\",'r',encoding='utf-8') as infile:\n",
    "    raw_level123_def = infile.read()\n",
    "\n",
    "level123_def = raw_level123_def.split('.')\n",
    "print('num of train sentences:', len(level123_def))"
   ]
  },
  {
   "cell_type": "code",
   "execution_count": 3,
   "metadata": {},
   "outputs": [
    {
     "name": "stdout",
     "output_type": "stream",
     "text": [
      "clean labels\n"
     ]
    }
   ],
   "source": [
    "df_test = pd.read_csv('../datasets/test set/full_test_sep.tsv', sep='\\t')\n",
    "df_icf = pd.read_csv('../datasets/ICF/ICF_def_label.tsv', sep='\\t')\n",
    "\n",
    "icf_def = df_icf['def'][:-1].tolist()\n",
    "labels = df_icf['label'].tolist()\n",
    "sentence = df_test['utterances'].tolist()\n",
    "\n",
    "# transform label to num\n",
    "df_test.loc[df_test['gold'] == 'learning', 'gold'] = 0\n",
    "df_test.loc[df_test['gold'] == 'general', 'gold'] = 1\n",
    "df_test.loc[df_test['gold'] == 'communication', 'gold'] = 2\n",
    "df_test.loc[df_test['gold'] == 'mobility', 'gold'] = 3\n",
    "df_test.loc[df_test['gold'] == 'selfcare', 'gold'] = 4\n",
    "df_test.loc[df_test['gold'] == 'domestic', 'gold'] = 5\n",
    "df_test.loc[df_test['gold'] == 'interpersonal', 'gold'] = 6\n",
    "df_test.loc[df_test['gold'] == 'major', 'gold'] = 7\n",
    "df_test.loc[df_test['gold'] == 'social', 'gold'] = 8\n",
    "df_test.loc[df_test['gold'] == 'none', 'gold'] = 9\n",
    "\n",
    "checklabel = [0,1,2,3,4,5,6,7,8,9]\n",
    "gold = df_test['gold'].tolist()\n",
    "for n,i in enumerate(gold):\n",
    "    if i not in checklabel:\n",
    "        if i != '-'*20:\n",
    "            print(i,n)\n",
    "print('clean labels')"
   ]
  },
  {
   "cell_type": "code",
   "execution_count": 4,
   "metadata": {},
   "outputs": [
    {
     "name": "stdout",
     "output_type": "stream",
     "text": [
      "with sep processing\n",
      "with sep processing\n"
     ]
    }
   ],
   "source": [
    "if '-'*20 in sentence:\n",
    "    print('with sep processing')\n",
    "    sentence = [ i for i in sentence if i != '-'*20]\n",
    "\n",
    "if '-'*20 in gold:\n",
    "    print('with sep processing')\n",
    "    gold = [ i for i in gold if i != '-'*20]"
   ]
  },
  {
   "cell_type": "code",
   "execution_count": 5,
   "metadata": {},
   "outputs": [
    {
     "name": "stdout",
     "output_type": "stream",
     "text": [
      "num of def: 9\n",
      "num of label: 10\n",
      "num of test sentences: 583\n"
     ]
    }
   ],
   "source": [
    "print('num of def:', len(icf_def))\n",
    "print('num of label:', len(labels))\n",
    "print('num of test sentences:', len(sentence))"
   ]
  },
  {
   "cell_type": "code",
   "execution_count": 6,
   "metadata": {},
   "outputs": [
    {
     "name": "stderr",
     "output_type": "stream",
     "text": [
      "No sentence-transformers model found with name /home/alice/.cache/torch/sentence_transformers/bert-base-uncased. Creating a new one with MEAN pooling.\n",
      "Some weights of the model checkpoint at /home/alice/.cache/torch/sentence_transformers/bert-base-uncased were not used when initializing BertModel: ['cls.predictions.transform.LayerNorm.weight', 'cls.predictions.decoder.weight', 'cls.seq_relationship.bias', 'cls.predictions.transform.dense.weight', 'cls.seq_relationship.weight', 'cls.predictions.transform.dense.bias', 'cls.predictions.transform.LayerNorm.bias', 'cls.predictions.bias']\n",
      "- This IS expected if you are initializing BertModel from the checkpoint of a model trained on another task or with another architecture (e.g. initializing a BertForSequenceClassification model from a BertForPreTraining model).\n",
      "- This IS NOT expected if you are initializing BertModel from the checkpoint of a model that you expect to be exactly identical (initializing a BertForSequenceClassification model from a BertForSequenceClassification model).\n"
     ]
    }
   ],
   "source": [
    "model_name = 'bert-base-uncased'\n",
    "model_trained = SentenceTransformer('bert-base-uncased')"
   ]
  },
  {
   "cell_type": "code",
   "execution_count": 7,
   "metadata": {},
   "outputs": [
    {
     "name": "stdout",
     "output_type": "stream",
     "text": [
      "score dimension: (583, 9)\n"
     ]
    }
   ],
   "source": [
    "sentence_emb_1 = model_trained.encode(sentence)\n",
    "sentence_emb_2 = model_trained.encode(icf_def)\n",
    "all_cos_score = cosine_similarity(sentence_emb_1, sentence_emb_2)\n",
    "print('score dimension:', all_cos_score.shape)"
   ]
  },
  {
   "cell_type": "code",
   "execution_count": 8,
   "metadata": {},
   "outputs": [
    {
     "name": "stdout",
     "output_type": "stream",
     "text": [
      "True\n",
      "max cos: ['0.76']\n",
      "max cos of each row: total rows: 583\n",
      "[0.523, 0.539, 0.542, 0.585, 0.587, 0.56, 0.589, 0.564, 0.595, 0.538, 0.59, 0.569, 0.583, 0.532, 0.59, 0.627, 0.653, 0.575, 0.572, 0.672, 0.635, 0.636, 0.615, 0.525, 0.574, 0.576, 0.562, 0.59, 0.524, 0.545, 0.591, 0.638, 0.539, 0.587, 0.567, 0.628, 0.602, 0.606, 0.625, 0.616, 0.565, 0.54, 0.569, 0.521, 0.709, 0.573, 0.656, 0.53, 0.526, 0.635, 0.669, 0.575, 0.62, 0.564, 0.606, 0.611, 0.646, 0.556, 0.621, 0.583, 0.632, 0.628, 0.671, 0.682, 0.714, 0.734, 0.603, 0.374, 0.597, 0.617, 0.591, 0.563, 0.363, 0.521, 0.493, 0.502, 0.63, 0.576, 0.629, 0.567, 0.552, 0.653, 0.53, 0.439, 0.504, 0.608, 0.537, 0.5, 0.501, 0.536, 0.479, 0.563, 0.584, 0.564, 0.663, 0.728, 0.558, 0.638, 0.648, 0.628, 0.575, 0.545, 0.574, 0.623, 0.597, 0.605, 0.609, 0.702, 0.551, 0.614, 0.533, 0.634, 0.553, 0.64, 0.458, 0.676, 0.524, 0.536, 0.582, 0.571, 0.544, 0.541, 0.592, 0.606, 0.628, 0.579, 0.604, 0.545, 0.581, 0.642, 0.583, 0.595, 0.593, 0.622, 0.423, 0.618, 0.696, 0.699, 0.548, 0.547, 0.585, 0.643, 0.611, 0.532, 0.515, 0.597, 0.524, 0.524, 0.551, 0.56, 0.635, 0.587, 0.424, 0.392, 0.513, 0.475, 0.555, 0.601, 0.603, 0.534, 0.533, 0.489, 0.568, 0.537, 0.507, 0.538, 0.608, 0.716, 0.655, 0.664, 0.527, 0.565, 0.402, 0.602, 0.713, 0.615, 0.59, 0.676, 0.602, 0.563, 0.597, 0.578, 0.576, 0.657, 0.587, 0.632, 0.651, 0.547, 0.636, 0.574, 0.633, 0.535, 0.636, 0.618, 0.691, 0.583, 0.551, 0.548, 0.564, 0.562, 0.592, 0.669, 0.612, 0.681, 0.65, 0.544, 0.621, 0.546, 0.677, 0.741, 0.564, 0.545, 0.627, 0.433, 0.436, 0.572, 0.593, 0.592, 0.551, 0.61, 0.567, 0.544, 0.597, 0.575, 0.54, 0.567, 0.455, 0.298, 0.546, 0.535, 0.577, 0.545, 0.591, 0.532, 0.66, 0.563, 0.708, 0.599, 0.603, 0.532, 0.482, 0.671, 0.624, 0.6, 0.661, 0.633, 0.577, 0.504, 0.502, 0.334, 0.638, 0.626, 0.676, 0.557, 0.603, 0.616, 0.635, 0.62, 0.66, 0.569, 0.509, 0.641, 0.501, 0.523, 0.625, 0.6, 0.583, 0.634, 0.486, 0.523, 0.56, 0.545, 0.573, 0.57, 0.555, 0.577, 0.565, 0.622, 0.651, 0.619, 0.62, 0.486, 0.641, 0.638, 0.67, 0.663, 0.563, 0.601, 0.57, 0.682, 0.704, 0.639, 0.536, 0.618, 0.453, 0.677, 0.692, 0.526, 0.755, 0.665, 0.672, 0.63, 0.617, 0.639, 0.618, 0.527, 0.758, 0.585, 0.496, 0.701, 0.537, 0.57, 0.624, 0.693, 0.624, 0.566, 0.404, 0.637, 0.573, 0.645, 0.567, 0.667, 0.626, 0.551, 0.634, 0.636, 0.518, 0.523, 0.563, 0.542, 0.591, 0.53, 0.505, 0.503, 0.456, 0.532, 0.645, 0.548, 0.657, 0.583, 0.523, 0.549, 0.563, 0.561, 0.637, 0.533, 0.463, 0.582, 0.502, 0.497, 0.541, 0.613, 0.557, 0.5, 0.632, 0.52, 0.604, 0.515, 0.706, 0.619, 0.633, 0.68, 0.589, 0.638, 0.635, 0.587, 0.633, 0.589, 0.511, 0.598, 0.518, 0.54, 0.614, 0.62, 0.603, 0.648, 0.638, 0.571, 0.515, 0.63, 0.534, 0.594, 0.575, 0.59, 0.602, 0.53, 0.508, 0.625, 0.477, 0.574, 0.644, 0.57, 0.559, 0.559, 0.518, 0.571, 0.561, 0.585, 0.573, 0.623, 0.6, 0.557, 0.638, 0.577, 0.55, 0.525, 0.463, 0.54, 0.54, 0.42, 0.606, 0.623, 0.524, 0.57, 0.583, 0.582, 0.536, 0.596, 0.579, 0.577, 0.599, 0.641, 0.742, 0.682, 0.651, 0.733, 0.607, 0.564, 0.6, 0.541, 0.646, 0.581, 0.508, 0.46, 0.68, 0.415, 0.638, 0.548, 0.604, 0.494, 0.671, 0.704, 0.475, 0.641, 0.527, 0.611, 0.55, 0.727, 0.595, 0.701, 0.688, 0.651, 0.614, 0.571, 0.556, 0.445, 0.374, 0.565, 0.586, 0.592, 0.677, 0.569, 0.402, 0.6, 0.564, 0.576, 0.513, 0.505, 0.588, 0.605, 0.542, 0.542, 0.655, 0.546, 0.572, 0.604, 0.591, 0.512, 0.661, 0.677, 0.534, 0.531, 0.562, 0.526, 0.444, 0.512, 0.561, 0.634, 0.5, 0.666, 0.616, 0.467, 0.565, 0.264, 0.559, 0.594, 0.505, 0.657, 0.748, 0.558, 0.686, 0.55, 0.548, 0.532, 0.507, 0.567, 0.51, 0.552, 0.548, 0.629, 0.45, 0.527, 0.662, 0.636, 0.536, 0.635, 0.467, 0.529, 0.274, 0.703, 0.509, 0.689, 0.556, 0.604, 0.621, 0.627, 0.614, 0.487, 0.76, 0.637, 0.736, 0.573, 0.545, 0.571, 0.739, 0.435, 0.578, 0.69, 0.672, 0.686, 0.571, 0.473, 0.703, 0.462, 0.561, 0.568, 0.604, 0.607, 0.607, 0.568, 0.607, 0.548, 0.546, 0.591, 0.59, 0.506, 0.533, 0.555, 0.611, 0.62, 0.61, 0.616, 0.559, 0.595, 0.596, 0.604, 0.623, 0.395, 0.602, 0.605, 0.646, 0.683, 0.605, 0.518, 0.509, 0.602, 0.565, 0.523, 0.548, 0.614, 0.607, 0.518, 0.539]\n",
      "--------------------\n",
      "max cos index of each row: total rows: 583\n",
      "[7 3 4 3 3 0 3 7 3 3 3 3 3 3 3 4 0 3 3 7 7 0 3 4 3 7 3 3 0 3 3 3 3 7 3 3 3\n",
      " 0 3 3 4 0 3 0 7 7 7 0 7 0 7 4 5 4 3 4 4 4 7 6 1 1 5 5 4 7 1 8 5 1 0 1 3 5\n",
      " 0 4 7 5 3 0 4 5 0 8 0 6 3 0 3 4 0 6 6 0 7 7 7 7 7 7 7 7 0 7 3 3 3 3 6 0 5\n",
      " 5 5 6 0 3 3 7 7 0 2 3 7 0 7 7 0 7 3 0 0 0 0 3 0 3 7 8 3 7 3 5 6 3 7 6 6 6\n",
      " 3 3 3 3 8 7 2 0 6 6 3 0 2 6 3 2 3 7 3 1 7 0 0 3 7 3 6 1 6 0 0 3 3 5 4 3 4\n",
      " 4 7 3 0 3 4 7 0 3 4 5 5 4 5 4 4 4 4 4 5 5 5 0 5 5 5 5 5 1 0 0 4 5 3 3 4 4\n",
      " 0 6 5 7 3 0 4 7 3 5 5 7 0 4 0 0 7 5 0 7 4 3 0 3 3 6 3 0 5 7 4 6 8 5 7 7 5\n",
      " 4 4 1 0 4 5 7 3 5 5 3 3 4 4 5 4 6 7 4 0 5 0 4 4 4 4 4 0 4 3 4 4 4 0 5 1 7\n",
      " 7 3 4 4 4 5 4 6 6 7 6 7 4 6 0 7 7 6 5 5 6 5 5 5 4 5 4 5 5 5 0 7 4 7 0 0 3\n",
      " 7 0 0 5 8 5 7 5 5 4 7 5 7 4 5 0 6 3 4 3 3 6 7 7 7 4 8 3 8 0 7 7 3 7 7 4 7\n",
      " 0 3 1 5 7 7 7 6 0 3 7 6 3 0 0 0 6 7 0 2 6 7 8 7 5 7 1 7 1 7 5 5 6 3 3 4 0\n",
      " 3 3 4 3 3 3 7 7 7 7 1 5 5 7 5 7 5 5 5 6 5 6 7 8 6 6 8 6 7 0 2 6 0 3 3 2 4\n",
      " 7 3 6 8 0 8 7 6 6 7 4 3 0 3 3 4 3 7 0 0 3 8 7 3 0 4 6 0 7 0 4 7 0 5 7 5 7\n",
      " 5 5 3 1 3 0 3 0 3 3 3 4 7 4 3 0 4 3 4 4 0 3 5 3 5 0 3 7 4 6 4 3 3 1 0 0 7\n",
      " 7 3 3 6 6 6 4 0 7 0 6 6 6 0 5 7 8 7 4 8 8 8 7 7 7 7 3 0 3 0 3 3 6 6 7 7 0\n",
      " 0 5 5 1 7 1 5 5 4 4 5 3 6 3 3 4 3 3 0 8 7 7 7 7 6 0 7 0]\n"
     ]
    }
   ],
   "source": [
    "# all_cos_score = all_cos_score.tolist()\n",
    "max_cos = [\"%.2f\" % np.max(all_cos_score, axis = None)]\n",
    "max_score_each_row = [\"%.3f\" % n for n in np.amax(all_cos_score, axis = 1)]\n",
    "max_score_each_row = [float(n) for n in max_score_each_row]\n",
    "max_score_ind = np.argmax(all_cos_score, axis =1)\n",
    "print(len(max_score_each_row) == len(max_score_ind))\n",
    "print('max cos:', max_cos)\n",
    "print('max cos of each row:', 'total rows:', len(max_score_each_row))\n",
    "print(max_score_each_row)\n",
    "print('-'*20)\n",
    "print('max cos index of each row:', 'total rows:', len(max_score_ind))\n",
    "print(max_score_ind)\n",
    "# max_score, max_score_ind"
   ]
  },
  {
   "cell_type": "code",
   "execution_count": 9,
   "metadata": {},
   "outputs": [
    {
     "data": {
      "text/plain": [
       "8"
      ]
     },
     "execution_count": 9,
     "metadata": {},
     "output_type": "execute_result"
    }
   ],
   "source": [
    "m = max(max_score_ind)\n",
    "m # the ind list only has 0-8 which are the real category, then we put 9 as index for 'none' in the following section"
   ]
  },
  {
   "cell_type": "code",
   "execution_count": 10,
   "metadata": {},
   "outputs": [
    {
     "name": "stdout",
     "output_type": "stream",
     "text": [
      "threshold list: [0.1, 0.2, 0.3, 0.4, 0.5, 0.53, 0.6, 0.75, 0.8]\n",
      "max-macro fscore: 0.296\n",
      "best threshold 0.53\n"
     ]
    }
   ],
   "source": [
    "zip_scor_ind = list(zip(max_score_each_row, max_score_ind))\n",
    "\n",
    "def get_predictions(zip_scor_ind, threshold):\n",
    "    \"\"\"\"\"\"\n",
    "    # threshold = 0.10\n",
    "    predictions = []\n",
    "    for s, i in zip_scor_ind:\n",
    "        if s >= threshold:\n",
    "            predictions.append(i)\n",
    "        elif s < threshold:\n",
    "            predictions.append(9) # index 9 means 'none'\n",
    "        else:\n",
    "            print('error comparison')\n",
    "    return predictions\n",
    "\n",
    "def get_best_fscore(thresholdlist, zip_scor_ind, gold):\n",
    "    \"\"\"\"\"\"\n",
    "    list_fscore = []\n",
    "    for threshold in thresholdlist:\n",
    "        predictions = get_predictions(zip_scor_ind, threshold)\n",
    "        list_fscore.append(f1_score(gold, predictions,average='macro'))\n",
    "    max_fsc = max(list_fscore)\n",
    "    best_thres = thresholdlist[list_fscore.index(max(list_fscore))]\n",
    "    return(max_fsc, best_thres)\n",
    "\n",
    "# predictions = get_predictions(zip_scor_ind, threshold=0.1)\n",
    "thresholdlist = [0.1,0.2,0.3,0.4,0.5,0.53,0.6,0.75,0.8]\n",
    "max_fsc, best_thres = get_best_fscore(thresholdlist, zip_scor_ind, gold)\n",
    "print('threshold list:',thresholdlist)\n",
    "print('max-macro fscore:', '%.3f' % max_fsc)\n",
    "print('best threshold',best_thres)\n"
   ]
  },
  {
   "cell_type": "code",
   "execution_count": 11,
   "metadata": {},
   "outputs": [
    {
     "name": "stdout",
     "output_type": "stream",
     "text": [
      "bert-base-uncased\n",
      "              precision    recall  f1-score   support\n",
      "\n",
      "           0       0.13      0.30      0.18        27\n",
      "           1       0.20      0.09      0.13        33\n",
      "           2       0.80      0.22      0.35        18\n",
      "           3       0.25      0.58      0.35        45\n",
      "           4       0.21      0.45      0.28        31\n",
      "           5       0.56      0.52      0.54        77\n",
      "           6       0.47      0.30      0.36        67\n",
      "           7       0.15      0.40      0.22        35\n",
      "           8       0.29      0.07      0.11        57\n",
      "           9       0.62      0.34      0.44       193\n",
      "\n",
      "    accuracy                           0.34       583\n",
      "   macro avg       0.37      0.33      0.30       583\n",
      "weighted avg       0.44      0.34      0.35       583\n",
      "\n"
     ]
    }
   ],
   "source": [
    "# get classification report \n",
    "# model_name = './output/tsdae-bert-base-uncased-icf-model'\n",
    "print(model_name)\n",
    "predictions = get_predictions(zip_scor_ind, best_thres)\n",
    "confusion = confusion_matrix(gold, predictions)\n",
    "report = classification_report(gold, predictions)\n",
    "\n",
    "print(report)"
   ]
  },
  {
   "cell_type": "code",
   "execution_count": 12,
   "metadata": {},
   "outputs": [
    {
     "name": "stdout",
     "output_type": "stream",
     "text": [
      "0 learning \n",
      "1 general \n",
      "2 communication\n",
      "3 mobility\n",
      "4 selfcare \n",
      "5 domestic \n",
      "6 interpersonal \n",
      "7 major\n",
      "8 social\n",
      "9 none \n"
     ]
    }
   ],
   "source": [
    "for i, label in enumerate(labels):\n",
    "    print(i,label)"
   ]
  },
  {
   "cell_type": "code",
   "execution_count": 13,
   "metadata": {},
   "outputs": [
    {
     "data": {
      "image/png": "[encoded data removed]",
      "text/plain": [
       "<Figure size 432x288 with 2 Axes>"
      ]
     },
     "metadata": {
      "needs_background": "light"
     },
     "output_type": "display_data"
    }
   ],
   "source": [
    "# plot confusion matrix \n",
    "disp = ConfusionMatrixDisplay(confusion_matrix=confusion,display_labels=checklabel)\n",
    "disp.plot()\n",
    "plt.show()"
   ]
  },
  {
   "cell_type": "code",
   "execution_count": 14,
   "metadata": {},
   "outputs": [],
   "source": [
    "model = model_name.split('/')[-1]\n",
    "df_predictions = pd.DataFrame({\n",
    "    'utterances':sentence,\n",
    "    'predictions':predictions\n",
    "    })\n",
    "df_predictions.to_csv(f'../datasets/predictions/predictions_{model}_level_1.tsv', sep='\\t',index=None)"
   ]
  }
 ],
 "metadata": {
  "kernelspec": {
   "display_name": "base",
   "language": "python",
   "name": "python3"
  },
  "language_info": {
   "codemirror_mode": {
    "name": "ipython",
    "version": 3
   },
   "file_extension": ".py",
   "mimetype": "text/x-python",
   "name": "python",
   "nbconvert_exporter": "python",
   "pygments_lexer": "ipython3",
   "version": "3.8.8"
  },
  "orig_nbformat": 4
 },
 "nbformat": 4,
 "nbformat_minor": 2
}
