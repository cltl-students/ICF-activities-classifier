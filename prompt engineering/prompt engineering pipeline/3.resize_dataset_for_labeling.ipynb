{
 "cells": [
  {
   "cell_type": "code",
   "execution_count": 1,
   "metadata": {},
   "outputs": [],
   "source": [
    "import glob\n",
    "import pandas as pd\n",
    "import re"
   ]
  },
  {
   "cell_type": "code",
   "execution_count": 2,
   "metadata": {},
   "outputs": [],
   "source": [
    "def cut_size(lst, sep = \"-\"*20):\n",
    "    \"\"\"\"\"\"\n",
    "    match = [x for x in lst if x == sep]\n",
    "    num = len(match)\n",
    "    count = 0\n",
    "    lst_1 = []\n",
    "    lst_2 = []\n",
    "    lst_3 = []\n",
    "    lst_4 = []\n",
    "    for e in lst:\n",
    "        if count < num/4:\n",
    "            if e == \"-\"*20:\n",
    "                count += 1 \n",
    "            lst_1.append(e)\n",
    "        elif num/2 > count >= num/4:\n",
    "            if e == \"-\"*20:\n",
    "                count += 1 \n",
    "            lst_2.append(e)\n",
    "        elif (num/4)*3 > count >= num/2:\n",
    "            if e == \"-\"*20:\n",
    "                count += 1 \n",
    "            lst_3.append(e)\n",
    "        else:\n",
    "            if e == \"-\"*20:\n",
    "                count += 1 \n",
    "            lst_4.append(e)\n",
    "    print(num == count)\n",
    "    return lst_1, lst_2, lst_3, lst_4"
   ]
  },
  {
   "cell_type": "code",
   "execution_count": 3,
   "metadata": {},
   "outputs": [
    {
     "name": "stdout",
     "output_type": "stream",
     "text": [
      "True\n",
      "True\n",
      "True\n",
      "True\n",
      "True\n",
      "True\n",
      "True\n",
      "True\n",
      "True\n"
     ]
    }
   ],
   "source": [
    "dir = '../response_data/'\n",
    "files = glob.glob(f\"{dir}clean_conversations/tsv/*.tsv\")\n",
    "for f in files:\n",
    "    df = pd.read_csv(f, sep=\"\\t\")\n",
    "    lst = df[\"utterances\"].tolist()\n",
    "    l1, l2, l3, l4 = cut_size(lst)\n",
    "    df_1 = pd.DataFrame({\"utterances\":l1})\n",
    "    df_2 = pd.DataFrame({\"utterances\": l2})\n",
    "    df_3 = pd.DataFrame({\"utterances\": l3})\n",
    "    df_4 = pd.DataFrame({\"utterances\": l4})\n",
    "    fileparts = f.split(\"/\")\n",
    "    name = fileparts[-1].rstrip(\".tsv\")\n",
    "    l1_path = f\"{dir}files_to_ready_to_label/\"+ name + \"_1\" + \".tsv\"\n",
    "    l2_path = f\"{dir}files_to_ready_to_label/\"+ name + \"_2\" + \".tsv\"\n",
    "    l3_path = f\"{dir}files_to_ready_to_label/\"+ name + \"_3\" + \".tsv\"\n",
    "    l4_path = f\"{dir}files_to_ready_to_label/\"+ name + \"_4\" + \".tsv\"\n",
    "    df_1.to_csv(l1_path, sep=\"\\t\")\n",
    "    df_2.to_csv(l2_path, sep=\"\\t\")\n",
    "    df_3.to_csv(l3_path, sep=\"\\t\")\n",
    "    df_4.to_csv(l4_path, sep=\"\\t\")\n"
   ]
  },
  {
   "cell_type": "code",
   "execution_count": null,
   "metadata": {},
   "outputs": [],
   "source": []
  }
 ],
 "metadata": {
  "kernelspec": {
   "display_name": "base",
   "language": "python",
   "name": "python3"
  },
  "language_info": {
   "codemirror_mode": {
    "name": "ipython",
    "version": 3
   },
   "file_extension": ".py",
   "mimetype": "text/x-python",
   "name": "python",
   "nbconvert_exporter": "python",
   "pygments_lexer": "ipython3",
   "version": "3.8.8"
  },
  "orig_nbformat": 4
 },
 "nbformat": 4,
 "nbformat_minor": 2
}
