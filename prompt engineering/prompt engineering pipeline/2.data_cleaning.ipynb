{
 "cells": [
  {
   "cell_type": "code",
   "execution_count": 4,
   "metadata": {},
   "outputs": [],
   "source": [
    "import json\n",
    "import re\n",
    "import emoji\n",
    "import glob\n",
    "import pandas as pd\n",
    "import nltk\n",
    "import random"
   ]
  },
  {
   "cell_type": "code",
   "execution_count": 8,
   "metadata": {},
   "outputs": [],
   "source": [
    "\n",
    "def clean_conversations_format(conversations):\n",
    "    \n",
    "    new_conversations = []\n",
    "    regex = \" {2,}\" # remove multiple space\n",
    "    regex_2 = \"\\n {1,}\\n\" # remove irregular \\n\n",
    "    regex_3 = \"\\n {1,}\"\n",
    "    regex_4 = \"[$/<>\\\"+\\\\\\)(}{]\" # remove the simble\n",
    "    regex_5 = \"\\n{2,}\" # change \\n\\n to \\n and use \\n as separator\n",
    "    regex_6 = \"\\t{1,}\"\n",
    "    for c in conversations:\n",
    "        multiple_s = re.findall(regex, c)\n",
    "        c = re.sub(regex,\" \", c) # change to one space\n",
    "        c = re.sub(regex_2, \"\\n\\n\",c) #\n",
    "        c = re.sub(regex_3,\" \", c) # change to one space\n",
    "        c = re.sub(regex_4, \"\", c)\n",
    "        c = re.sub(regex_5, \"\\n\",c)\n",
    "        c = re.sub(regex_6, \"\", c)\n",
    "        emoji.replace_emoji(c)\n",
    "        c = emoji.replace_emoji(c)\n",
    "\n",
    "        # # test effects\n",
    "        # if \"No, everything was fine, but my knee gave me a hard time this time.\" in c:\n",
    "        #     print(c)\n",
    "        #     # break\n",
    "        new_conversations.append(c)\n",
    "\n",
    "    return new_conversations\n"
   ]
  },
  {
   "cell_type": "code",
   "execution_count": 9,
   "metadata": {},
   "outputs": [],
   "source": [
    "def remove_role(new_conversations):\n",
    "    list_con_utterances= [] \n",
    "    count_utterances = 0\n",
    "    for con in new_conversations:\n",
    "            utterances = con.split(\"\\n\")\n",
    "            remove_head_u = []\n",
    "            for u in utterances:\n",
    "                if u.startswith(\"F: \"):\n",
    "                    u = u.replace(\"F: \", \"\")\n",
    "                elif u.startswith(\"F:\"):\n",
    "                    u = u.replace(\"F:\",\"\")\n",
    "                elif u.startswith(\"P: \"):\n",
    "                    u = u.replace(\"P: \", \"\")\n",
    "                elif u.startswith(\"P:\"):\n",
    "                    u = u.replace(\"P:\", \"\")\n",
    "                if len(u)>1:\n",
    "                    remove_head_u.append(u)\n",
    "            list_con_utterances.append(remove_head_u)\n",
    "            count_utterances += len(remove_head_u)\n",
    "            list_con_utterances.append([\"-\"*20])\n",
    "    list_u_sep = []\n",
    "    for l in list_con_utterances:\n",
    "        for s in l:\n",
    "            list_u_sep.append(s)\n",
    "    return list_u_sep, count_utterances   "
   ]
  },
  {
   "cell_type": "code",
   "execution_count": 29,
   "metadata": {},
   "outputs": [
    {
     "name": "stdout",
     "output_type": "stream",
     "text": [
      "mobility 120\n",
      "general tasks and demands 120\n",
      "communication 120\n",
      "major life areas 120\n",
      "domestic life 120\n",
      "learning and applying knowledge 120\n",
      "interpersonal interactions and relationships 120\n",
      "self-care 140\n",
      "community, social and civic life 100\n",
      "finished 9 files, total: 1080 conversations, 8464 utterances, \n"
     ]
    }
   ],
   "source": [
    "dir = '../response_data/'\n",
    "count = 0\n",
    "count_all_utterances = 0 \n",
    "n_file = 0\n",
    "files = glob.glob(f\"{dir}raw_conversations/*.json\")\n",
    "for f in files:\n",
    "    with open (f) as infile:\n",
    "        data = json.load(infile)\n",
    "# create a dict with cleantext\n",
    "    cleandata = dict()\n",
    "    for key, value in data.items():\n",
    "        category = key\n",
    "        conversations = value\n",
    "        new_conversations = clean_conversations_format(conversations) # list of str\n",
    "        list_u_sep, count_utterances = remove_role(new_conversations)\n",
    "        cleandata[category] = new_conversations\n",
    "        \n",
    "        # wirte to tsv file\n",
    "        df = pd.DataFrame({'col':list_u_sep})\n",
    "        df.to_csv(f\"{dir}clean_conversations/{category}_clean.tsv\",sep=\"\\t\",index=False,header=[\"utterances\"])\n",
    "        \n",
    "        # write to json file\n",
    "        with open(f\"{dir}clean_conversations/{category}_clean.json\", \"w\", encoding=\"utf-8\") as jfile:\n",
    "            json.dump(cleandata, jfile, ensure_ascii=False, indent=4)\n",
    "        num_c = len(new_conversations)\n",
    "        print(category, num_c)\n",
    "        count += num_c\n",
    "        count_all_utterances += count_utterances\n",
    "        n_file += 1\n",
    "print(f\"finished {n_file} files, total: {count} conversations, {count_all_utterances} utterances, \")\n",
    "\n",
    "    "
   ]
  },
  {
   "cell_type": "code",
   "execution_count": 44,
   "metadata": {},
   "outputs": [
    {
     "name": "stdout",
     "output_type": "stream",
     "text": [
      "totoal tokens of all conversations are 121046\n"
     ]
    }
   ],
   "source": [
    "tokenizer = nltk.tokenize.RegexpTokenizer(r'\\w+')\n",
    "count_token = 0\n",
    "files_tokens = glob.glob(\"./clean_conversations/*.tsv\")\n",
    "for f_token in files_tokens:\n",
    "    df_token = pd.read_csv(f\"{f_token}\", sep=\"\\t\")\n",
    "    for u in df_token[\"utterances\"]:\n",
    "        tokens = tokenizer.tokenize(u)\n",
    "        count_t = len(tokens)\n",
    "        count_token += count_t\n",
    "print(\"totoal tokens of all conversations are\", count_token)\n"
   ]
  },
  {
   "cell_type": "code",
   "execution_count": null,
   "metadata": {},
   "outputs": [],
   "source": []
  }
 ],
 "metadata": {
  "kernelspec": {
   "display_name": "base",
   "language": "python",
   "name": "python3"
  },
  "language_info": {
   "codemirror_mode": {
    "name": "ipython",
    "version": 3
   },
   "file_extension": ".py",
   "mimetype": "text/x-python",
   "name": "python",
   "nbconvert_exporter": "python",
   "pygments_lexer": "ipython3",
   "version": "3.8.8"
  },
  "orig_nbformat": 4
 },
 "nbformat": 4,
 "nbformat_minor": 2
}
